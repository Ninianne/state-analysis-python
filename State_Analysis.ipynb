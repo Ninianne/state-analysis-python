{
  "nbformat": 4,
  "nbformat_minor": 0,
  "metadata": {
    "colab": {
      "provenance": []
    },
    "kernelspec": {
      "name": "python3",
      "display_name": "Python 3"
    },
    "language_info": {
      "name": "python"
    }
  },
  "cells": [
    {
      "cell_type": "code",
      "source": [
        "from google.colab import files\n",
        "\n",
        "uploaded = files.upload()\n"
      ],
      "metadata": {
        "colab": {
          "base_uri": "https://localhost:8080/",
          "height": 172
        },
        "id": "3Cx3eyGkbfWt",
        "outputId": "0cae0ca3-d99f-4d2f-ed76-22f87bf49a30"
      },
      "execution_count": 3,
      "outputs": [
        {
          "output_type": "display_data",
          "data": {
            "text/plain": [
              "<IPython.core.display.HTML object>"
            ],
            "text/html": [
              "\n",
              "     <input type=\"file\" id=\"files-51d0fb49-836d-4e23-8beb-5bfb8913eecb\" name=\"files[]\" multiple disabled\n",
              "        style=\"border:none\" />\n",
              "     <output id=\"result-51d0fb49-836d-4e23-8beb-5bfb8913eecb\">\n",
              "      Upload widget is only available when the cell has been executed in the\n",
              "      current browser session. Please rerun this cell to enable.\n",
              "      </output>\n",
              "      <script>// Copyright 2017 Google LLC\n",
              "//\n",
              "// Licensed under the Apache License, Version 2.0 (the \"License\");\n",
              "// you may not use this file except in compliance with the License.\n",
              "// You may obtain a copy of the License at\n",
              "//\n",
              "//      http://www.apache.org/licenses/LICENSE-2.0\n",
              "//\n",
              "// Unless required by applicable law or agreed to in writing, software\n",
              "// distributed under the License is distributed on an \"AS IS\" BASIS,\n",
              "// WITHOUT WARRANTIES OR CONDITIONS OF ANY KIND, either express or implied.\n",
              "// See the License for the specific language governing permissions and\n",
              "// limitations under the License.\n",
              "\n",
              "/**\n",
              " * @fileoverview Helpers for google.colab Python module.\n",
              " */\n",
              "(function(scope) {\n",
              "function span(text, styleAttributes = {}) {\n",
              "  const element = document.createElement('span');\n",
              "  element.textContent = text;\n",
              "  for (const key of Object.keys(styleAttributes)) {\n",
              "    element.style[key] = styleAttributes[key];\n",
              "  }\n",
              "  return element;\n",
              "}\n",
              "\n",
              "// Max number of bytes which will be uploaded at a time.\n",
              "const MAX_PAYLOAD_SIZE = 100 * 1024;\n",
              "\n",
              "function _uploadFiles(inputId, outputId) {\n",
              "  const steps = uploadFilesStep(inputId, outputId);\n",
              "  const outputElement = document.getElementById(outputId);\n",
              "  // Cache steps on the outputElement to make it available for the next call\n",
              "  // to uploadFilesContinue from Python.\n",
              "  outputElement.steps = steps;\n",
              "\n",
              "  return _uploadFilesContinue(outputId);\n",
              "}\n",
              "\n",
              "// This is roughly an async generator (not supported in the browser yet),\n",
              "// where there are multiple asynchronous steps and the Python side is going\n",
              "// to poll for completion of each step.\n",
              "// This uses a Promise to block the python side on completion of each step,\n",
              "// then passes the result of the previous step as the input to the next step.\n",
              "function _uploadFilesContinue(outputId) {\n",
              "  const outputElement = document.getElementById(outputId);\n",
              "  const steps = outputElement.steps;\n",
              "\n",
              "  const next = steps.next(outputElement.lastPromiseValue);\n",
              "  return Promise.resolve(next.value.promise).then((value) => {\n",
              "    // Cache the last promise value to make it available to the next\n",
              "    // step of the generator.\n",
              "    outputElement.lastPromiseValue = value;\n",
              "    return next.value.response;\n",
              "  });\n",
              "}\n",
              "\n",
              "/**\n",
              " * Generator function which is called between each async step of the upload\n",
              " * process.\n",
              " * @param {string} inputId Element ID of the input file picker element.\n",
              " * @param {string} outputId Element ID of the output display.\n",
              " * @return {!Iterable<!Object>} Iterable of next steps.\n",
              " */\n",
              "function* uploadFilesStep(inputId, outputId) {\n",
              "  const inputElement = document.getElementById(inputId);\n",
              "  inputElement.disabled = false;\n",
              "\n",
              "  const outputElement = document.getElementById(outputId);\n",
              "  outputElement.innerHTML = '';\n",
              "\n",
              "  const pickedPromise = new Promise((resolve) => {\n",
              "    inputElement.addEventListener('change', (e) => {\n",
              "      resolve(e.target.files);\n",
              "    });\n",
              "  });\n",
              "\n",
              "  const cancel = document.createElement('button');\n",
              "  inputElement.parentElement.appendChild(cancel);\n",
              "  cancel.textContent = 'Cancel upload';\n",
              "  const cancelPromise = new Promise((resolve) => {\n",
              "    cancel.onclick = () => {\n",
              "      resolve(null);\n",
              "    };\n",
              "  });\n",
              "\n",
              "  // Wait for the user to pick the files.\n",
              "  const files = yield {\n",
              "    promise: Promise.race([pickedPromise, cancelPromise]),\n",
              "    response: {\n",
              "      action: 'starting',\n",
              "    }\n",
              "  };\n",
              "\n",
              "  cancel.remove();\n",
              "\n",
              "  // Disable the input element since further picks are not allowed.\n",
              "  inputElement.disabled = true;\n",
              "\n",
              "  if (!files) {\n",
              "    return {\n",
              "      response: {\n",
              "        action: 'complete',\n",
              "      }\n",
              "    };\n",
              "  }\n",
              "\n",
              "  for (const file of files) {\n",
              "    const li = document.createElement('li');\n",
              "    li.append(span(file.name, {fontWeight: 'bold'}));\n",
              "    li.append(span(\n",
              "        `(${file.type || 'n/a'}) - ${file.size} bytes, ` +\n",
              "        `last modified: ${\n",
              "            file.lastModifiedDate ? file.lastModifiedDate.toLocaleDateString() :\n",
              "                                    'n/a'} - `));\n",
              "    const percent = span('0% done');\n",
              "    li.appendChild(percent);\n",
              "\n",
              "    outputElement.appendChild(li);\n",
              "\n",
              "    const fileDataPromise = new Promise((resolve) => {\n",
              "      const reader = new FileReader();\n",
              "      reader.onload = (e) => {\n",
              "        resolve(e.target.result);\n",
              "      };\n",
              "      reader.readAsArrayBuffer(file);\n",
              "    });\n",
              "    // Wait for the data to be ready.\n",
              "    let fileData = yield {\n",
              "      promise: fileDataPromise,\n",
              "      response: {\n",
              "        action: 'continue',\n",
              "      }\n",
              "    };\n",
              "\n",
              "    // Use a chunked sending to avoid message size limits. See b/62115660.\n",
              "    let position = 0;\n",
              "    do {\n",
              "      const length = Math.min(fileData.byteLength - position, MAX_PAYLOAD_SIZE);\n",
              "      const chunk = new Uint8Array(fileData, position, length);\n",
              "      position += length;\n",
              "\n",
              "      const base64 = btoa(String.fromCharCode.apply(null, chunk));\n",
              "      yield {\n",
              "        response: {\n",
              "          action: 'append',\n",
              "          file: file.name,\n",
              "          data: base64,\n",
              "        },\n",
              "      };\n",
              "\n",
              "      let percentDone = fileData.byteLength === 0 ?\n",
              "          100 :\n",
              "          Math.round((position / fileData.byteLength) * 100);\n",
              "      percent.textContent = `${percentDone}% done`;\n",
              "\n",
              "    } while (position < fileData.byteLength);\n",
              "  }\n",
              "\n",
              "  // All done.\n",
              "  yield {\n",
              "    response: {\n",
              "      action: 'complete',\n",
              "    }\n",
              "  };\n",
              "}\n",
              "\n",
              "scope.google = scope.google || {};\n",
              "scope.google.colab = scope.google.colab || {};\n",
              "scope.google.colab._files = {\n",
              "  _uploadFiles,\n",
              "  _uploadFilesContinue,\n",
              "};\n",
              "})(self);\n",
              "</script> "
            ]
          },
          "metadata": {}
        },
        {
          "output_type": "stream",
          "name": "stdout",
          "text": [
            "Saving KEYS.csv to KEYS.csv\n",
            "Saving REDFIN_MEDIAN_SALE_PRICE.csv to REDFIN_MEDIAN_SALE_PRICE (1).csv\n",
            "Saving CENSUS_POPULATION_STATE.tsv to CENSUS_POPULATION_STATE (1).tsv\n",
            "Saving CENSUS_MHI_STATE.csv to CENSUS_MHI_STATE (1).csv\n"
          ]
        }
      ]
    },
    {
      "cell_type": "code",
      "source": [
        "import pandas as pd\n",
        "\n",
        "mhi = pd.read_csv(\"CENSUS_MHI_STATE.csv\")\n",
        "pop = pd.read_csv(\"CENSUS_POPULATION_STATE.tsv\", sep='\\t')\n",
        "keys = pd.read_csv(\"KEYS.csv\")\n",
        "redfin = pd.read_csv(\"REDFIN_MEDIAN_SALE_PRICE.csv\")\n"
      ],
      "metadata": {
        "id": "Fc9cm5y0b5in"
      },
      "execution_count": 5,
      "outputs": []
    },
    {
      "cell_type": "code",
      "source": [
        "print(\"MHI:\\n\", mhi.head())\n",
        "print(\"POPULATION:\\n\", pop.head())\n",
        "print(\"KEYS:\\n\", keys.head())\n",
        "print(\"REDFIN:\\n\", redfin.head())\n"
      ],
      "metadata": {
        "colab": {
          "base_uri": "https://localhost:8080/"
        },
        "id": "breEHXAwcD_M",
        "outputId": "26008c2d-11c9-4297-be5b-cd73d35aa2ba"
      },
      "execution_count": 6,
      "outputs": [
        {
          "output_type": "stream",
          "name": "stdout",
          "text": [
            "MHI:\n",
            "                                     Label (Grouping)  \\\n",
            "0  HOUSEHOLD INCOME BY RACE AND HISPANIC OR LATIN...   \n",
            "1                                         Households   \n",
            "2                                         One race--   \n",
            "3                                              White   \n",
            "4                          Black or African American   \n",
            "\n",
            "  Alabama!!Number!!Estimate Alabama!!Number!!Margin of Error  \\\n",
            "0                       NaN                              NaN   \n",
            "1                 1,969,105                           ±6,574   \n",
            "2                       NaN                              NaN   \n",
            "3                 1,327,559                           ±5,320   \n",
            "4                   513,880                           ±3,525   \n",
            "\n",
            "  Alabama!!Percent Distribution!!Estimate  \\\n",
            "0                                     NaN   \n",
            "1                               1,969,105   \n",
            "2                                     NaN   \n",
            "3                                  67.40%   \n",
            "4                                  26.10%   \n",
            "\n",
            "  Alabama!!Percent Distribution!!Margin of Error  \\\n",
            "0                                            NaN   \n",
            "1                                         ±6,574   \n",
            "2                                            NaN   \n",
            "3                                           ±0.2   \n",
            "4                                           ±0.2   \n",
            "\n",
            "  Alabama!!Median income (dollars)!!Estimate  \\\n",
            "0                                        NaN   \n",
            "1                                     62,027   \n",
            "2                                        NaN   \n",
            "3                                     71,604   \n",
            "4                                     42,373   \n",
            "\n",
            "  Alabama!!Median income (dollars)!!Margin of Error Alaska!!Number!!Estimate  \\\n",
            "0                                               NaN                      NaN   \n",
            "1                                              ±400                  267,865   \n",
            "2                                               NaN                      NaN   \n",
            "3                                              ±507                  185,313   \n",
            "4                                              ±666                    8,124   \n",
            "\n",
            "  Alaska!!Number!!Margin of Error Alaska!!Percent Distribution!!Estimate  ...  \\\n",
            "0                             NaN                                    NaN  ...   \n",
            "1                          ±1,441                                267,865  ...   \n",
            "2                             NaN                                    NaN  ...   \n",
            "3                          ±1,530                                 69.20%  ...   \n",
            "4                            ±573                                  3.00%  ...   \n",
            "\n",
            "  Wyoming!!Percent Distribution!!Estimate  \\\n",
            "0                                     NaN   \n",
            "1                                 238,176   \n",
            "2                                     NaN   \n",
            "3                                  89.60%   \n",
            "4                                   0.70%   \n",
            "\n",
            "  Wyoming!!Percent Distribution!!Margin of Error  \\\n",
            "0                                            NaN   \n",
            "1                                         ±1,220   \n",
            "2                                            NaN   \n",
            "3                                           ±0.3   \n",
            "4                                           ±0.1   \n",
            "\n",
            "  Wyoming!!Median income (dollars)!!Estimate  \\\n",
            "0                                        NaN   \n",
            "1                                     74,815   \n",
            "2                                        NaN   \n",
            "3                                     75,867   \n",
            "4                                     40,750   \n",
            "\n",
            "  Wyoming!!Median income (dollars)!!Margin of Error  \\\n",
            "0                                               NaN   \n",
            "1                                            ±1,225   \n",
            "2                                               NaN   \n",
            "3                                            ±1,139   \n",
            "4                                           ±17,900   \n",
            "\n",
            "  Puerto Rico!!Number!!Estimate Puerto Rico!!Number!!Margin of Error  \\\n",
            "0                           NaN                                  NaN   \n",
            "1                     1,239,243                               ±5,156   \n",
            "2                           NaN                                  NaN   \n",
            "3                       425,472                               ±4,598   \n",
            "4                        94,224                               ±2,079   \n",
            "\n",
            "  Puerto Rico!!Percent Distribution!!Estimate  \\\n",
            "0                                         NaN   \n",
            "1                                   1,239,243   \n",
            "2                                         NaN   \n",
            "3                                      34.30%   \n",
            "4                                       7.60%   \n",
            "\n",
            "  Puerto Rico!!Percent Distribution!!Margin of Error  \\\n",
            "0                                                NaN   \n",
            "1                                             ±5,156   \n",
            "2                                                NaN   \n",
            "3                                               ±0.3   \n",
            "4                                               ±0.2   \n",
            "\n",
            "  Puerto Rico!!Median income (dollars)!!Estimate  \\\n",
            "0                                            NaN   \n",
            "1                                         25,096   \n",
            "2                                            NaN   \n",
            "3                                         25,679   \n",
            "4                                         24,576   \n",
            "\n",
            "  Puerto Rico!!Median income (dollars)!!Margin of Error  \n",
            "0                                                NaN     \n",
            "1                                               ±232     \n",
            "2                                                NaN     \n",
            "3                                               ±382     \n",
            "4                                               ±761     \n",
            "\n",
            "[5 rows x 313 columns]\n",
            "POPULATION:\n",
            "                             Label (Grouping) Alabama!!Estimate  \\\n",
            "0                                SEX AND AGE               NaN   \n",
            "1                           Total population         5,108,468   \n",
            "2                                       Male         2,471,801   \n",
            "3                                     Female         2,636,667   \n",
            "4          Sex ratio (males per 100 females)              93.7   \n",
            "\n",
            "  Alabama!!Margin of Error Alabama!!Percent Alabama!!Percent Margin of Error  \\\n",
            "0                      NaN              NaN                              NaN   \n",
            "1                    *****        5,108,468                              (X)   \n",
            "2                   ±5,359           48.40%                             ±0.1   \n",
            "3                   ±5,359           51.60%                             ±0.1   \n",
            "4                     ±0.4              (X)                              (X)   \n",
            "\n",
            "  Alaska!!Estimate Alaska!!Margin of Error Alaska!!Percent  \\\n",
            "0              NaN                     NaN             NaN   \n",
            "1          733,406                   *****         733,406   \n",
            "2          385,855                  ±2,547          52.60%   \n",
            "3          347,551                  ±2,547          47.40%   \n",
            "4              111                    ±1.5             (X)   \n",
            "\n",
            "  Alaska!!Percent Margin of Error Arizona!!Estimate  ... Wisconsin!!Percent  \\\n",
            "0                             NaN               NaN  ...                NaN   \n",
            "1                             (X)         7,431,344  ...          5,910,955   \n",
            "2                            ±0.3         3,708,672  ...             50.10%   \n",
            "3                            ±0.3         3,722,672  ...             49.90%   \n",
            "4                             (X)              99.6  ...                (X)   \n",
            "\n",
            "  Wisconsin!!Percent Margin of Error Wyoming!!Estimate  \\\n",
            "0                                NaN               NaN   \n",
            "1                                (X)           584,057   \n",
            "2                               ±0.1           295,735   \n",
            "3                               ±0.1           288,322   \n",
            "4                                (X)             102.6   \n",
            "\n",
            "  Wyoming!!Margin of Error Wyoming!!Percent Wyoming!!Percent Margin of Error  \\\n",
            "0                      NaN              NaN                              NaN   \n",
            "1                    *****          584,057                              (X)   \n",
            "2                   ±2,677           50.60%                             ±0.5   \n",
            "3                   ±2,677           49.40%                             ±0.5   \n",
            "4                     ±1.9              (X)                              (X)   \n",
            "\n",
            "  Puerto Rico!!Estimate Puerto Rico!!Margin of Error Puerto Rico!!Percent  \\\n",
            "0                   NaN                          NaN                  NaN   \n",
            "1             3,205,691                        *****            3,205,691   \n",
            "2             1,518,924                       ±4,095               47.40%   \n",
            "3             1,686,767                       ±4,095               52.60%   \n",
            "4                    90                         ±0.5                  (X)   \n",
            "\n",
            "  Puerto Rico!!Percent Margin of Error  \n",
            "0                                  NaN  \n",
            "1                                  (X)  \n",
            "2                                 ±0.1  \n",
            "3                                 ±0.1  \n",
            "4                                  (X)  \n",
            "\n",
            "[5 rows x 209 columns]\n",
            "KEYS:\n",
            "          key_row realtor_cbsa_title zillow_region_name redfin_region  \\\n",
            "0  united_states      United States      United States      National   \n",
            "1        alabama            alabama            Alabama       Alabama   \n",
            "2         alaska             alaska             Alaska        Alaska   \n",
            "3        arizona            arizona            Arizona       Arizona   \n",
            "4       arkansas           arkansas           Arkansas      Arkansas   \n",
            "\n",
            "      census_msa region_type state_abbreviation alternative_name  \n",
            "0  United States     country                 US    United States  \n",
            "1        Alabama       state                 AL          Alabama  \n",
            "2         Alaska       state                 AK           Alaska  \n",
            "3        Arizona       state                 AZ          Arizona  \n",
            "4       Arkansas       state                 AR         Arkansas  \n",
            "REDFIN:\n",
            "   Unnamed: 0 Month of Period End Month of Period End.1 Month of Period End.2  \\\n",
            "0     Region        January 2012         February 2012            March 2012   \n",
            "1    Alabama               $131K                 $153K                 $140K   \n",
            "2     Alaska               $240K                 $246K                 $243K   \n",
            "3    Arizona               $125K                 $127K                 $135K   \n",
            "4   Arkansas               $100K                 $108K                 $127K   \n",
            "\n",
            "  Month of Period End.3 Month of Period End.4 Month of Period End.5  \\\n",
            "0            April 2012              May 2012             June 2012   \n",
            "1                 $142K                 $155K                 $164K   \n",
            "2                 $242K                 $251K                 $260K   \n",
            "3                 $142K                 $149K                 $151K   \n",
            "4                 $120K                 $123K                 $121K   \n",
            "\n",
            "  Month of Period End.6 Month of Period End.7 Month of Period End.8  ...  \\\n",
            "0             July 2012           August 2012        September 2012  ...   \n",
            "1                 $154K                 $158K                 $145K  ...   \n",
            "2                 $254K                 $258K                 $259K  ...   \n",
            "3                 $150K                 $153K                 $154K  ...   \n",
            "4                 $115K                 $125K                 $137K  ...   \n",
            "\n",
            "  Month of Period End.148 Month of Period End.149 Month of Period End.150  \\\n",
            "0                May 2024               June 2024               July 2024   \n",
            "1                   $288K                   $293K                   $286K   \n",
            "2                   $391K                   $395K                   $388K   \n",
            "3                   $450K                   $450K                   $443K   \n",
            "4                   $263K                   $267K                   $256K   \n",
            "\n",
            "  Month of Period End.151 Month of Period End.152 Month of Period End.153  \\\n",
            "0             August 2024          September 2024            October 2024   \n",
            "1                   $280K                   $281K                   $275K   \n",
            "2                   $398K                   $388K                   $387K   \n",
            "3                   $441K                   $441K                   $445K   \n",
            "4                   $264K                   $256K                   $258K   \n",
            "\n",
            "  Month of Period End.154 Month of Period End.155 Month of Period End.156  \\\n",
            "0           November 2024           December 2024            January 2025   \n",
            "1                   $279K                   $280K                   $276K   \n",
            "2                   $387K                   $384K                   $387K   \n",
            "3                   $446K                   $449K                   $453K   \n",
            "4                   $259K                   $256K                   $255K   \n",
            "\n",
            "  Month of Period End.157  \n",
            "0           February 2025  \n",
            "1                   $283K  \n",
            "2                   $385K  \n",
            "3                   $456K  \n",
            "4                   $255K  \n",
            "\n",
            "[5 rows x 159 columns]\n"
          ]
        }
      ]
    },
    {
      "cell_type": "code",
      "source": [
        "# Example: Rename 2022 columns to make them clear before merging\n",
        "mhi = mhi.rename(columns={'2022': '2022 Median Household Income', '2021': '2021 Median Household Income'})\n",
        "redfin = redfin.rename(columns={'2022': '2022 Median Sale Price', '2021': '2021 Median Sale Price'})\n",
        "pop = pop.rename(columns={'2022': '2022 Population', '2021': '2021 Population'})\n"
      ],
      "metadata": {
        "id": "t8zBUYdmcGqQ"
      },
      "execution_count": 7,
      "outputs": []
    },
    {
      "cell_type": "code",
      "source": [
        "df = keys.copy()\n",
        "df = df.merge(mhi[['State', '2022 Median Household Income', '2021 Median Household Income']], on='State', how='left')\n",
        "df = df.merge(redfin[['State', '2022 Median Sale Price', '2021 Median Sale Price']], on='State', how='left')\n",
        "df = df.merge(pop[['State', '2022 Population', '2021 Population']], on='State', how='left')\n"
      ],
      "metadata": {
        "colab": {
          "base_uri": "https://localhost:8080/",
          "height": 333
        },
        "id": "_Hve_b_ac0M1",
        "outputId": "2f078ff9-1f86-4795-e5dc-adca6a4703c7"
      },
      "execution_count": 8,
      "outputs": [
        {
          "output_type": "error",
          "ename": "KeyError",
          "evalue": "\"None of [Index(['State', '2022 Median Household Income',\\n       '2021 Median Household Income'],\\n      dtype='object')] are in the [columns]\"",
          "traceback": [
            "\u001b[0;31m---------------------------------------------------------------------------\u001b[0m",
            "\u001b[0;31mKeyError\u001b[0m                                  Traceback (most recent call last)",
            "\u001b[0;32m<ipython-input-8-b734e1013872>\u001b[0m in \u001b[0;36m<cell line: 0>\u001b[0;34m()\u001b[0m\n\u001b[1;32m      1\u001b[0m \u001b[0mdf\u001b[0m \u001b[0;34m=\u001b[0m \u001b[0mkeys\u001b[0m\u001b[0;34m.\u001b[0m\u001b[0mcopy\u001b[0m\u001b[0;34m(\u001b[0m\u001b[0;34m)\u001b[0m\u001b[0;34m\u001b[0m\u001b[0;34m\u001b[0m\u001b[0m\n\u001b[0;32m----> 2\u001b[0;31m \u001b[0mdf\u001b[0m \u001b[0;34m=\u001b[0m \u001b[0mdf\u001b[0m\u001b[0;34m.\u001b[0m\u001b[0mmerge\u001b[0m\u001b[0;34m(\u001b[0m\u001b[0mmhi\u001b[0m\u001b[0;34m[\u001b[0m\u001b[0;34m[\u001b[0m\u001b[0;34m'State'\u001b[0m\u001b[0;34m,\u001b[0m \u001b[0;34m'2022 Median Household Income'\u001b[0m\u001b[0;34m,\u001b[0m \u001b[0;34m'2021 Median Household Income'\u001b[0m\u001b[0;34m]\u001b[0m\u001b[0;34m]\u001b[0m\u001b[0;34m,\u001b[0m \u001b[0mon\u001b[0m\u001b[0;34m=\u001b[0m\u001b[0;34m'State'\u001b[0m\u001b[0;34m,\u001b[0m \u001b[0mhow\u001b[0m\u001b[0;34m=\u001b[0m\u001b[0;34m'left'\u001b[0m\u001b[0;34m)\u001b[0m\u001b[0;34m\u001b[0m\u001b[0;34m\u001b[0m\u001b[0m\n\u001b[0m\u001b[1;32m      3\u001b[0m \u001b[0mdf\u001b[0m \u001b[0;34m=\u001b[0m \u001b[0mdf\u001b[0m\u001b[0;34m.\u001b[0m\u001b[0mmerge\u001b[0m\u001b[0;34m(\u001b[0m\u001b[0mredfin\u001b[0m\u001b[0;34m[\u001b[0m\u001b[0;34m[\u001b[0m\u001b[0;34m'State'\u001b[0m\u001b[0;34m,\u001b[0m \u001b[0;34m'2022 Median Sale Price'\u001b[0m\u001b[0;34m,\u001b[0m \u001b[0;34m'2021 Median Sale Price'\u001b[0m\u001b[0;34m]\u001b[0m\u001b[0;34m]\u001b[0m\u001b[0;34m,\u001b[0m \u001b[0mon\u001b[0m\u001b[0;34m=\u001b[0m\u001b[0;34m'State'\u001b[0m\u001b[0;34m,\u001b[0m \u001b[0mhow\u001b[0m\u001b[0;34m=\u001b[0m\u001b[0;34m'left'\u001b[0m\u001b[0;34m)\u001b[0m\u001b[0;34m\u001b[0m\u001b[0;34m\u001b[0m\u001b[0m\n\u001b[1;32m      4\u001b[0m \u001b[0mdf\u001b[0m \u001b[0;34m=\u001b[0m \u001b[0mdf\u001b[0m\u001b[0;34m.\u001b[0m\u001b[0mmerge\u001b[0m\u001b[0;34m(\u001b[0m\u001b[0mpop\u001b[0m\u001b[0;34m[\u001b[0m\u001b[0;34m[\u001b[0m\u001b[0;34m'State'\u001b[0m\u001b[0;34m,\u001b[0m \u001b[0;34m'2022 Population'\u001b[0m\u001b[0;34m,\u001b[0m \u001b[0;34m'2021 Population'\u001b[0m\u001b[0;34m]\u001b[0m\u001b[0;34m]\u001b[0m\u001b[0;34m,\u001b[0m \u001b[0mon\u001b[0m\u001b[0;34m=\u001b[0m\u001b[0;34m'State'\u001b[0m\u001b[0;34m,\u001b[0m \u001b[0mhow\u001b[0m\u001b[0;34m=\u001b[0m\u001b[0;34m'left'\u001b[0m\u001b[0;34m)\u001b[0m\u001b[0;34m\u001b[0m\u001b[0;34m\u001b[0m\u001b[0m\n",
            "\u001b[0;32m/usr/local/lib/python3.11/dist-packages/pandas/core/frame.py\u001b[0m in \u001b[0;36m__getitem__\u001b[0;34m(self, key)\u001b[0m\n\u001b[1;32m   4106\u001b[0m             \u001b[0;32mif\u001b[0m \u001b[0mis_iterator\u001b[0m\u001b[0;34m(\u001b[0m\u001b[0mkey\u001b[0m\u001b[0;34m)\u001b[0m\u001b[0;34m:\u001b[0m\u001b[0;34m\u001b[0m\u001b[0;34m\u001b[0m\u001b[0m\n\u001b[1;32m   4107\u001b[0m                 \u001b[0mkey\u001b[0m \u001b[0;34m=\u001b[0m \u001b[0mlist\u001b[0m\u001b[0;34m(\u001b[0m\u001b[0mkey\u001b[0m\u001b[0;34m)\u001b[0m\u001b[0;34m\u001b[0m\u001b[0;34m\u001b[0m\u001b[0m\n\u001b[0;32m-> 4108\u001b[0;31m             \u001b[0mindexer\u001b[0m \u001b[0;34m=\u001b[0m \u001b[0mself\u001b[0m\u001b[0;34m.\u001b[0m\u001b[0mcolumns\u001b[0m\u001b[0;34m.\u001b[0m\u001b[0m_get_indexer_strict\u001b[0m\u001b[0;34m(\u001b[0m\u001b[0mkey\u001b[0m\u001b[0;34m,\u001b[0m \u001b[0;34m\"columns\"\u001b[0m\u001b[0;34m)\u001b[0m\u001b[0;34m[\u001b[0m\u001b[0;36m1\u001b[0m\u001b[0;34m]\u001b[0m\u001b[0;34m\u001b[0m\u001b[0;34m\u001b[0m\u001b[0m\n\u001b[0m\u001b[1;32m   4109\u001b[0m \u001b[0;34m\u001b[0m\u001b[0m\n\u001b[1;32m   4110\u001b[0m         \u001b[0;31m# take() does not accept boolean indexers\u001b[0m\u001b[0;34m\u001b[0m\u001b[0;34m\u001b[0m\u001b[0m\n",
            "\u001b[0;32m/usr/local/lib/python3.11/dist-packages/pandas/core/indexes/base.py\u001b[0m in \u001b[0;36m_get_indexer_strict\u001b[0;34m(self, key, axis_name)\u001b[0m\n\u001b[1;32m   6198\u001b[0m             \u001b[0mkeyarr\u001b[0m\u001b[0;34m,\u001b[0m \u001b[0mindexer\u001b[0m\u001b[0;34m,\u001b[0m \u001b[0mnew_indexer\u001b[0m \u001b[0;34m=\u001b[0m \u001b[0mself\u001b[0m\u001b[0;34m.\u001b[0m\u001b[0m_reindex_non_unique\u001b[0m\u001b[0;34m(\u001b[0m\u001b[0mkeyarr\u001b[0m\u001b[0;34m)\u001b[0m\u001b[0;34m\u001b[0m\u001b[0;34m\u001b[0m\u001b[0m\n\u001b[1;32m   6199\u001b[0m \u001b[0;34m\u001b[0m\u001b[0m\n\u001b[0;32m-> 6200\u001b[0;31m         \u001b[0mself\u001b[0m\u001b[0;34m.\u001b[0m\u001b[0m_raise_if_missing\u001b[0m\u001b[0;34m(\u001b[0m\u001b[0mkeyarr\u001b[0m\u001b[0;34m,\u001b[0m \u001b[0mindexer\u001b[0m\u001b[0;34m,\u001b[0m \u001b[0maxis_name\u001b[0m\u001b[0;34m)\u001b[0m\u001b[0;34m\u001b[0m\u001b[0;34m\u001b[0m\u001b[0m\n\u001b[0m\u001b[1;32m   6201\u001b[0m \u001b[0;34m\u001b[0m\u001b[0m\n\u001b[1;32m   6202\u001b[0m         \u001b[0mkeyarr\u001b[0m \u001b[0;34m=\u001b[0m \u001b[0mself\u001b[0m\u001b[0;34m.\u001b[0m\u001b[0mtake\u001b[0m\u001b[0;34m(\u001b[0m\u001b[0mindexer\u001b[0m\u001b[0;34m)\u001b[0m\u001b[0;34m\u001b[0m\u001b[0;34m\u001b[0m\u001b[0m\n",
            "\u001b[0;32m/usr/local/lib/python3.11/dist-packages/pandas/core/indexes/base.py\u001b[0m in \u001b[0;36m_raise_if_missing\u001b[0;34m(self, key, indexer, axis_name)\u001b[0m\n\u001b[1;32m   6247\u001b[0m         \u001b[0;32mif\u001b[0m \u001b[0mnmissing\u001b[0m\u001b[0;34m:\u001b[0m\u001b[0;34m\u001b[0m\u001b[0;34m\u001b[0m\u001b[0m\n\u001b[1;32m   6248\u001b[0m             \u001b[0;32mif\u001b[0m \u001b[0mnmissing\u001b[0m \u001b[0;34m==\u001b[0m \u001b[0mlen\u001b[0m\u001b[0;34m(\u001b[0m\u001b[0mindexer\u001b[0m\u001b[0;34m)\u001b[0m\u001b[0;34m:\u001b[0m\u001b[0;34m\u001b[0m\u001b[0;34m\u001b[0m\u001b[0m\n\u001b[0;32m-> 6249\u001b[0;31m                 \u001b[0;32mraise\u001b[0m \u001b[0mKeyError\u001b[0m\u001b[0;34m(\u001b[0m\u001b[0;34mf\"None of [{key}] are in the [{axis_name}]\"\u001b[0m\u001b[0;34m)\u001b[0m\u001b[0;34m\u001b[0m\u001b[0;34m\u001b[0m\u001b[0m\n\u001b[0m\u001b[1;32m   6250\u001b[0m \u001b[0;34m\u001b[0m\u001b[0m\n\u001b[1;32m   6251\u001b[0m             \u001b[0mnot_found\u001b[0m \u001b[0;34m=\u001b[0m \u001b[0mlist\u001b[0m\u001b[0;34m(\u001b[0m\u001b[0mensure_index\u001b[0m\u001b[0;34m(\u001b[0m\u001b[0mkey\u001b[0m\u001b[0;34m)\u001b[0m\u001b[0;34m[\u001b[0m\u001b[0mmissing_mask\u001b[0m\u001b[0;34m.\u001b[0m\u001b[0mnonzero\u001b[0m\u001b[0;34m(\u001b[0m\u001b[0;34m)\u001b[0m\u001b[0;34m[\u001b[0m\u001b[0;36m0\u001b[0m\u001b[0;34m]\u001b[0m\u001b[0;34m]\u001b[0m\u001b[0;34m.\u001b[0m\u001b[0munique\u001b[0m\u001b[0;34m(\u001b[0m\u001b[0;34m)\u001b[0m\u001b[0;34m)\u001b[0m\u001b[0;34m\u001b[0m\u001b[0;34m\u001b[0m\u001b[0m\n",
            "\u001b[0;31mKeyError\u001b[0m: \"None of [Index(['State', '2022 Median Household Income',\\n       '2021 Median Household Income'],\\n      dtype='object')] are in the [columns]\""
          ]
        }
      ]
    },
    {
      "cell_type": "code",
      "source": [
        "print(\"MHI columns:\", mhi.columns)\n",
        "print(\"REDFIN columns:\", redfin.columns)\n",
        "print(\"POP columns:\", pop.columns)\n",
        "print(\"KEYS columns:\", keys.columns)\n"
      ],
      "metadata": {
        "colab": {
          "base_uri": "https://localhost:8080/"
        },
        "id": "kkw0HnBRdXpB",
        "outputId": "a0e837d1-7e80-4c7d-be8e-57f8955ada20"
      },
      "execution_count": 10,
      "outputs": [
        {
          "output_type": "stream",
          "name": "stdout",
          "text": [
            "MHI columns: Index(['Label (Grouping)', 'Alabama!!Number!!Estimate',\n",
            "       'Alabama!!Number!!Margin of Error',\n",
            "       'Alabama!!Percent Distribution!!Estimate',\n",
            "       'Alabama!!Percent Distribution!!Margin of Error',\n",
            "       'Alabama!!Median income (dollars)!!Estimate',\n",
            "       'Alabama!!Median income (dollars)!!Margin of Error',\n",
            "       'Alaska!!Number!!Estimate', 'Alaska!!Number!!Margin of Error',\n",
            "       'Alaska!!Percent Distribution!!Estimate',\n",
            "       ...\n",
            "       'Wyoming!!Percent Distribution!!Estimate',\n",
            "       'Wyoming!!Percent Distribution!!Margin of Error',\n",
            "       'Wyoming!!Median income (dollars)!!Estimate',\n",
            "       'Wyoming!!Median income (dollars)!!Margin of Error',\n",
            "       'Puerto Rico!!Number!!Estimate', 'Puerto Rico!!Number!!Margin of Error',\n",
            "       'Puerto Rico!!Percent Distribution!!Estimate',\n",
            "       'Puerto Rico!!Percent Distribution!!Margin of Error',\n",
            "       'Puerto Rico!!Median income (dollars)!!Estimate',\n",
            "       'Puerto Rico!!Median income (dollars)!!Margin of Error'],\n",
            "      dtype='object', length=313)\n",
            "REDFIN columns: Index(['Unnamed: 0', 'Month of Period End', 'Month of Period End.1',\n",
            "       'Month of Period End.2', 'Month of Period End.3',\n",
            "       'Month of Period End.4', 'Month of Period End.5',\n",
            "       'Month of Period End.6', 'Month of Period End.7',\n",
            "       'Month of Period End.8',\n",
            "       ...\n",
            "       'Month of Period End.148', 'Month of Period End.149',\n",
            "       'Month of Period End.150', 'Month of Period End.151',\n",
            "       'Month of Period End.152', 'Month of Period End.153',\n",
            "       'Month of Period End.154', 'Month of Period End.155',\n",
            "       'Month of Period End.156', 'Month of Period End.157'],\n",
            "      dtype='object', length=159)\n",
            "POP columns: Index(['Label (Grouping)', 'Alabama!!Estimate', 'Alabama!!Margin of Error',\n",
            "       'Alabama!!Percent', 'Alabama!!Percent Margin of Error',\n",
            "       'Alaska!!Estimate', 'Alaska!!Margin of Error', 'Alaska!!Percent',\n",
            "       'Alaska!!Percent Margin of Error', 'Arizona!!Estimate',\n",
            "       ...\n",
            "       'Wisconsin!!Percent', 'Wisconsin!!Percent Margin of Error',\n",
            "       'Wyoming!!Estimate', 'Wyoming!!Margin of Error', 'Wyoming!!Percent',\n",
            "       'Wyoming!!Percent Margin of Error', 'Puerto Rico!!Estimate',\n",
            "       'Puerto Rico!!Margin of Error', 'Puerto Rico!!Percent',\n",
            "       'Puerto Rico!!Percent Margin of Error'],\n",
            "      dtype='object', length=209)\n",
            "KEYS columns: Index(['key_row', 'realtor_cbsa_title', 'zillow_region_name', 'redfin_region',\n",
            "       'census_msa', 'region_type', 'state_abbreviation', 'alternative_name'],\n",
            "      dtype='object')\n"
          ]
        }
      ]
    },
    {
      "cell_type": "code",
      "source": [
        "import re\n",
        "\n",
        "# Gather columns ending with 'Median income (dollars)!!Estimate'\n",
        "mhi_cols = [col for col in mhi.columns if col.endswith('Median income (dollars)!!Estimate')]\n",
        "# Strip state names for new DataFrame\n",
        "states = [col.split('!!')[0] for col in mhi_cols]\n",
        "\n",
        "mhi_2022 = pd.DataFrame({\n",
        "    'State': states,\n",
        "    '2022 Median Household Income': [mhi[col].values[0] for col in mhi_cols]  # Assumes the estimate is in the first row\n",
        "})\n"
      ],
      "metadata": {
        "id": "RhHpiyBEd0Uc"
      },
      "execution_count": 11,
      "outputs": []
    },
    {
      "cell_type": "code",
      "source": [
        "pop_cols = [col for col in pop.columns if col.endswith('!!Estimate')]\n",
        "states = [col.split('!!')[0] for col in pop_cols]\n",
        "\n",
        "pop_2022 = pd.DataFrame({\n",
        "    'State': states,\n",
        "    '2022 Population': [pop[col].values[0] for col in pop_cols]\n",
        "})\n"
      ],
      "metadata": {
        "id": "lMYUFukee12M"
      },
      "execution_count": 12,
      "outputs": []
    },
    {
      "cell_type": "code",
      "source": [
        "# Extract columns ending with 'Median income (dollars)!!Estimate'\n",
        "mhi_cols = [col for col in mhi.columns if col.endswith('Median income (dollars)!!Estimate')]\n",
        "states = [col.split('!!')[0] for col in mhi_cols]\n",
        "\n",
        "# Get 2022 Median Household Income (assuming row 0 is the estimate for 2022)\n",
        "mhi_2022 = pd.DataFrame({\n",
        "    'State': states,\n",
        "    '2022 Median Household Income': [mhi[col].values[0] for col in mhi_cols]\n",
        "})\n",
        "print(mhi_2022.head())\n"
      ],
      "metadata": {
        "colab": {
          "base_uri": "https://localhost:8080/"
        },
        "id": "3MWx8gZ1fAd3",
        "outputId": "e17b0330-8e04-49b2-e0f1-f1be952f7486"
      },
      "execution_count": 13,
      "outputs": [
        {
          "output_type": "stream",
          "name": "stdout",
          "text": [
            "        State  2022 Median Household Income\n",
            "0     Alabama                           NaN\n",
            "1      Alaska                           NaN\n",
            "2     Arizona                           NaN\n",
            "3    Arkansas                           NaN\n",
            "4  California                           NaN\n"
          ]
        }
      ]
    },
    {
      "cell_type": "code",
      "source": [
        "pop_cols = [col for col in pop.columns if col.endswith('!!Estimate')]\n",
        "states_pop = [col.split('!!')[0] for col in pop_cols]\n",
        "\n",
        "# Get 2022 Population (assuming row 0 is the estimate for 2022)\n",
        "pop_2022 = pd.DataFrame({\n",
        "    'State': states_pop,\n",
        "    '2022 Population': [pop[col].values[0] for col in pop_cols]\n",
        "})\n",
        "print(pop_2022.head())\n"
      ],
      "metadata": {
        "colab": {
          "base_uri": "https://localhost:8080/"
        },
        "id": "nYGd2V-sfbv5",
        "outputId": "b8b68870-ea69-47d6-fbd7-511c00a5726a"
      },
      "execution_count": 14,
      "outputs": [
        {
          "output_type": "stream",
          "name": "stdout",
          "text": [
            "        State  2022 Population\n",
            "0     Alabama              NaN\n",
            "1      Alaska              NaN\n",
            "2     Arizona              NaN\n",
            "3    Arkansas              NaN\n",
            "4  California              NaN\n"
          ]
        }
      ]
    },
    {
      "cell_type": "code",
      "source": [
        "print(mhi.head(3))  # See if rows correspond to years\n"
      ],
      "metadata": {
        "colab": {
          "base_uri": "https://localhost:8080/"
        },
        "id": "v57KON6bffMO",
        "outputId": "541caef2-e902-4445-d434-7fd6b19cd82a"
      },
      "execution_count": 15,
      "outputs": [
        {
          "output_type": "stream",
          "name": "stdout",
          "text": [
            "                                    Label (Grouping)  \\\n",
            "0  HOUSEHOLD INCOME BY RACE AND HISPANIC OR LATIN...   \n",
            "1                                         Households   \n",
            "2                                         One race--   \n",
            "\n",
            "  Alabama!!Number!!Estimate Alabama!!Number!!Margin of Error  \\\n",
            "0                       NaN                              NaN   \n",
            "1                 1,969,105                           ±6,574   \n",
            "2                       NaN                              NaN   \n",
            "\n",
            "  Alabama!!Percent Distribution!!Estimate  \\\n",
            "0                                     NaN   \n",
            "1                               1,969,105   \n",
            "2                                     NaN   \n",
            "\n",
            "  Alabama!!Percent Distribution!!Margin of Error  \\\n",
            "0                                            NaN   \n",
            "1                                         ±6,574   \n",
            "2                                            NaN   \n",
            "\n",
            "  Alabama!!Median income (dollars)!!Estimate  \\\n",
            "0                                        NaN   \n",
            "1                                     62,027   \n",
            "2                                        NaN   \n",
            "\n",
            "  Alabama!!Median income (dollars)!!Margin of Error Alaska!!Number!!Estimate  \\\n",
            "0                                               NaN                      NaN   \n",
            "1                                              ±400                  267,865   \n",
            "2                                               NaN                      NaN   \n",
            "\n",
            "  Alaska!!Number!!Margin of Error Alaska!!Percent Distribution!!Estimate  ...  \\\n",
            "0                             NaN                                    NaN  ...   \n",
            "1                          ±1,441                                267,865  ...   \n",
            "2                             NaN                                    NaN  ...   \n",
            "\n",
            "  Wyoming!!Percent Distribution!!Estimate  \\\n",
            "0                                     NaN   \n",
            "1                                 238,176   \n",
            "2                                     NaN   \n",
            "\n",
            "  Wyoming!!Percent Distribution!!Margin of Error  \\\n",
            "0                                            NaN   \n",
            "1                                         ±1,220   \n",
            "2                                            NaN   \n",
            "\n",
            "  Wyoming!!Median income (dollars)!!Estimate  \\\n",
            "0                                        NaN   \n",
            "1                                     74,815   \n",
            "2                                        NaN   \n",
            "\n",
            "  Wyoming!!Median income (dollars)!!Margin of Error  \\\n",
            "0                                               NaN   \n",
            "1                                            ±1,225   \n",
            "2                                               NaN   \n",
            "\n",
            "  Puerto Rico!!Number!!Estimate Puerto Rico!!Number!!Margin of Error  \\\n",
            "0                           NaN                                  NaN   \n",
            "1                     1,239,243                               ±5,156   \n",
            "2                           NaN                                  NaN   \n",
            "\n",
            "  Puerto Rico!!Percent Distribution!!Estimate  \\\n",
            "0                                         NaN   \n",
            "1                                   1,239,243   \n",
            "2                                         NaN   \n",
            "\n",
            "  Puerto Rico!!Percent Distribution!!Margin of Error  \\\n",
            "0                                                NaN   \n",
            "1                                             ±5,156   \n",
            "2                                                NaN   \n",
            "\n",
            "  Puerto Rico!!Median income (dollars)!!Estimate  \\\n",
            "0                                            NaN   \n",
            "1                                         25,096   \n",
            "2                                            NaN   \n",
            "\n",
            "  Puerto Rico!!Median income (dollars)!!Margin of Error  \n",
            "0                                                NaN     \n",
            "1                                               ±232     \n",
            "2                                                NaN     \n",
            "\n",
            "[3 rows x 313 columns]\n"
          ]
        }
      ]
    },
    {
      "cell_type": "code",
      "source": [
        "print(redfin.head(10))\n",
        "print(redfin.columns)\n"
      ],
      "metadata": {
        "colab": {
          "base_uri": "https://localhost:8080/"
        },
        "id": "vVm1NDbqfjNx",
        "outputId": "1becafc6-ed26-4178-e3ac-9fe65a7e546b"
      },
      "execution_count": 16,
      "outputs": [
        {
          "output_type": "stream",
          "name": "stdout",
          "text": [
            "    Unnamed: 0 Month of Period End Month of Period End.1  \\\n",
            "0       Region        January 2012         February 2012   \n",
            "1      Alabama               $131K                 $153K   \n",
            "2       Alaska               $240K                 $246K   \n",
            "3      Arizona               $125K                 $127K   \n",
            "4     Arkansas               $100K                 $108K   \n",
            "5   California               $281K                 $286K   \n",
            "6     Colorado               $220K                 $204K   \n",
            "7     Columbia               $353K                 $395K   \n",
            "8  Connecticut               $175K                 $180K   \n",
            "9     Delaware               $162K                 $158K   \n",
            "\n",
            "  Month of Period End.2 Month of Period End.3 Month of Period End.4  \\\n",
            "0            March 2012            April 2012              May 2012   \n",
            "1                 $140K                 $142K                 $155K   \n",
            "2                 $243K                 $242K                 $251K   \n",
            "3                 $135K                 $142K                 $149K   \n",
            "4                 $127K                 $120K                 $123K   \n",
            "5                 $306K                 $321K                 $329K   \n",
            "6                 $220K                 $231K                 $246K   \n",
            "7                 $395K                 $435K                 $435K   \n",
            "8                 $186K                 $194K                 $204K   \n",
            "9                 $171K                 $174K                 $178K   \n",
            "\n",
            "  Month of Period End.5 Month of Period End.6 Month of Period End.7  \\\n",
            "0             June 2012             July 2012           August 2012   \n",
            "1                 $164K                 $154K                 $158K   \n",
            "2                 $260K                 $254K                 $258K   \n",
            "3                 $151K                 $150K                 $153K   \n",
            "4                 $121K                 $115K                 $125K   \n",
            "5                 $340K                 $345K                 $343K   \n",
            "6                 $249K                 $239K                 $237K   \n",
            "7                 $448K                 $444K                 $433K   \n",
            "8                 $213K                 $212K                 $209K   \n",
            "9                 $192K                 $190K                 $183K   \n",
            "\n",
            "  Month of Period End.8  ... Month of Period End.148 Month of Period End.149  \\\n",
            "0        September 2012  ...                May 2024               June 2024   \n",
            "1                 $145K  ...                   $288K                   $293K   \n",
            "2                 $259K  ...                   $391K                   $395K   \n",
            "3                 $154K  ...                   $450K                   $450K   \n",
            "4                 $137K  ...                   $263K                   $267K   \n",
            "5                 $347K  ...                   $859K                   $857K   \n",
            "6                 $240K  ...                   $603K                   $608K   \n",
            "7                 $420K  ...                   $690K                   $711K   \n",
            "8                 $201K  ...                   $424K                   $476K   \n",
            "9                 $194K  ...                   $360K                   $355K   \n",
            "\n",
            "  Month of Period End.150 Month of Period End.151 Month of Period End.152  \\\n",
            "0               July 2024             August 2024          September 2024   \n",
            "1                   $286K                   $280K                   $281K   \n",
            "2                   $388K                   $398K                   $388K   \n",
            "3                   $443K                   $441K                   $441K   \n",
            "4                   $256K                   $264K                   $256K   \n",
            "5                   $837K                   $817K                   $815K   \n",
            "6                   $593K                   $593K                   $611K   \n",
            "7                   $675K                   $630K                   $606K   \n",
            "8                   $461K                   $459K                   $430K   \n",
            "9                   $353K                   $369K                   $365K   \n",
            "\n",
            "  Month of Period End.153 Month of Period End.154 Month of Period End.155  \\\n",
            "0            October 2024           November 2024           December 2024   \n",
            "1                   $275K                   $279K                   $280K   \n",
            "2                   $387K                   $387K                   $384K   \n",
            "3                   $445K                   $446K                   $449K   \n",
            "4                   $258K                   $259K                   $256K   \n",
            "5                   $839K                   $830K                   $802K   \n",
            "6                   $627K                   $622K                   $600K   \n",
            "7                   $660K                   $697K                   $625K   \n",
            "8                   $416K                   $423K                   $435K   \n",
            "9                   $359K                   $354K                   $350K   \n",
            "\n",
            "  Month of Period End.156 Month of Period End.157  \n",
            "0            January 2025           February 2025  \n",
            "1                   $276K                   $283K  \n",
            "2                   $387K                   $385K  \n",
            "3                   $453K                   $456K  \n",
            "4                   $255K                   $255K  \n",
            "5                   $785K                   $833K  \n",
            "6                   $607K                   $583K  \n",
            "7                   $551K                   $659K  \n",
            "8                   $415K                   $416K  \n",
            "9                   $340K                   $352K  \n",
            "\n",
            "[10 rows x 159 columns]\n",
            "Index(['Unnamed: 0', 'Month of Period End', 'Month of Period End.1',\n",
            "       'Month of Period End.2', 'Month of Period End.3',\n",
            "       'Month of Period End.4', 'Month of Period End.5',\n",
            "       'Month of Period End.6', 'Month of Period End.7',\n",
            "       'Month of Period End.8',\n",
            "       ...\n",
            "       'Month of Period End.148', 'Month of Period End.149',\n",
            "       'Month of Period End.150', 'Month of Period End.151',\n",
            "       'Month of Period End.152', 'Month of Period End.153',\n",
            "       'Month of Period End.154', 'Month of Period End.155',\n",
            "       'Month of Period End.156', 'Month of Period End.157'],\n",
            "      dtype='object', length=159)\n"
          ]
        }
      ]
    },
    {
      "cell_type": "code",
      "source": [
        "# Try to find all unique state or region names\n",
        "print(redfin['redfin_region'].unique() if 'redfin_region' in redfin.columns else 'No region column found')\n",
        "\n",
        "# If you see a 'Period End' or 'Year' column, filter for 2022\n"
      ],
      "metadata": {
        "colab": {
          "base_uri": "https://localhost:8080/"
        },
        "id": "UmmU1AhWfoAD",
        "outputId": "1562d87f-daff-4aaf-9c5b-feca5d965032"
      },
      "execution_count": 17,
      "outputs": [
        {
          "output_type": "stream",
          "name": "stdout",
          "text": [
            "No region column found\n"
          ]
        }
      ]
    },
    {
      "cell_type": "code",
      "source": [
        "df = mhi_2022.merge(pop_2022, on='State', how='inner')\n",
        "# Add REDFIN extraction once available\n"
      ],
      "metadata": {
        "id": "isrTBq5tfq8B"
      },
      "execution_count": 18,
      "outputs": []
    },
    {
      "cell_type": "code",
      "source": [
        "# Extract all columns ending with 'Median income (dollars)!!Estimate'\n",
        "mhi_cols = [col for col in mhi.columns if col.endswith('Median income (dollars)!!Estimate')]\n",
        "states_mhi = [col.split('!!')[0] for col in mhi_cols]\n",
        "\n",
        "mhi_2022 = pd.DataFrame({\n",
        "    'State': states_mhi,\n",
        "    '2022 Median Household Income': [float(mhi[col].iloc[0]) for col in mhi_cols]\n",
        "})\n"
      ],
      "metadata": {
        "id": "QPll0NjXf9Ds"
      },
      "execution_count": 19,
      "outputs": []
    },
    {
      "cell_type": "code",
      "source": [
        "pop_cols = [col for col in pop.columns if col.endswith('!!Estimate')]\n",
        "states_pop = [col.split('!!')[0] for col in pop_cols]\n",
        "\n",
        "pop_2022 = pd.DataFrame({\n",
        "    'State': states_pop,\n",
        "    '2022 Population': [int(pop[col].iloc[0]) for col in pop_cols]\n",
        "})\n"
      ],
      "metadata": {
        "colab": {
          "base_uri": "https://localhost:8080/",
          "height": 292
        },
        "id": "Tn_sSZKQf-oI",
        "outputId": "0a6d57a2-a644-438f-e42e-5862de6e9362"
      },
      "execution_count": 20,
      "outputs": [
        {
          "output_type": "error",
          "ename": "ValueError",
          "evalue": "cannot convert float NaN to integer",
          "traceback": [
            "\u001b[0;31m---------------------------------------------------------------------------\u001b[0m",
            "\u001b[0;31mValueError\u001b[0m                                Traceback (most recent call last)",
            "\u001b[0;32m<ipython-input-20-746416b6ccf7>\u001b[0m in \u001b[0;36m<cell line: 0>\u001b[0;34m()\u001b[0m\n\u001b[1;32m      4\u001b[0m pop_2022 = pd.DataFrame({\n\u001b[1;32m      5\u001b[0m     \u001b[0;34m'State'\u001b[0m\u001b[0;34m:\u001b[0m \u001b[0mstates_pop\u001b[0m\u001b[0;34m,\u001b[0m\u001b[0;34m\u001b[0m\u001b[0;34m\u001b[0m\u001b[0m\n\u001b[0;32m----> 6\u001b[0;31m     \u001b[0;34m'2022 Population'\u001b[0m\u001b[0;34m:\u001b[0m \u001b[0;34m[\u001b[0m\u001b[0mint\u001b[0m\u001b[0;34m(\u001b[0m\u001b[0mpop\u001b[0m\u001b[0;34m[\u001b[0m\u001b[0mcol\u001b[0m\u001b[0;34m]\u001b[0m\u001b[0;34m.\u001b[0m\u001b[0miloc\u001b[0m\u001b[0;34m[\u001b[0m\u001b[0;36m0\u001b[0m\u001b[0;34m]\u001b[0m\u001b[0;34m)\u001b[0m \u001b[0;32mfor\u001b[0m \u001b[0mcol\u001b[0m \u001b[0;32min\u001b[0m \u001b[0mpop_cols\u001b[0m\u001b[0;34m]\u001b[0m\u001b[0;34m\u001b[0m\u001b[0;34m\u001b[0m\u001b[0m\n\u001b[0m\u001b[1;32m      7\u001b[0m })\n",
            "\u001b[0;32m<ipython-input-20-746416b6ccf7>\u001b[0m in \u001b[0;36m<listcomp>\u001b[0;34m(.0)\u001b[0m\n\u001b[1;32m      4\u001b[0m pop_2022 = pd.DataFrame({\n\u001b[1;32m      5\u001b[0m     \u001b[0;34m'State'\u001b[0m\u001b[0;34m:\u001b[0m \u001b[0mstates_pop\u001b[0m\u001b[0;34m,\u001b[0m\u001b[0;34m\u001b[0m\u001b[0;34m\u001b[0m\u001b[0m\n\u001b[0;32m----> 6\u001b[0;31m     \u001b[0;34m'2022 Population'\u001b[0m\u001b[0;34m:\u001b[0m \u001b[0;34m[\u001b[0m\u001b[0mint\u001b[0m\u001b[0;34m(\u001b[0m\u001b[0mpop\u001b[0m\u001b[0;34m[\u001b[0m\u001b[0mcol\u001b[0m\u001b[0;34m]\u001b[0m\u001b[0;34m.\u001b[0m\u001b[0miloc\u001b[0m\u001b[0;34m[\u001b[0m\u001b[0;36m0\u001b[0m\u001b[0;34m]\u001b[0m\u001b[0;34m)\u001b[0m \u001b[0;32mfor\u001b[0m \u001b[0mcol\u001b[0m \u001b[0;32min\u001b[0m \u001b[0mpop_cols\u001b[0m\u001b[0;34m]\u001b[0m\u001b[0;34m\u001b[0m\u001b[0;34m\u001b[0m\u001b[0m\n\u001b[0m\u001b[1;32m      7\u001b[0m })\n",
            "\u001b[0;31mValueError\u001b[0m: cannot convert float NaN to integer"
          ]
        }
      ]
    },
    {
      "cell_type": "code",
      "source": [
        "pop_data = []\n",
        "for col in pop_cols:\n",
        "    val = pop[col].iloc[0]\n",
        "    state = col.split('!!')[0]\n",
        "    if pd.notnull(val):  # only keep valid numbers\n",
        "        pop_data.append({'State': state, '2022 Population': int(val)})\n",
        "\n",
        "pop_2022 = pd.DataFrame(pop_data)\n",
        "print(pop_2022.head())\n"
      ],
      "metadata": {
        "colab": {
          "base_uri": "https://localhost:8080/"
        },
        "id": "HqSagG9YgTOp",
        "outputId": "e3901dfb-fb68-488d-cb23-f53c3dadd04f"
      },
      "execution_count": 21,
      "outputs": [
        {
          "output_type": "stream",
          "name": "stdout",
          "text": [
            "Empty DataFrame\n",
            "Columns: []\n",
            "Index: []\n"
          ]
        }
      ]
    },
    {
      "cell_type": "code",
      "source": [
        "for col in pop_cols:\n",
        "    val = pop[col].iloc[0]\n",
        "    if pd.isnull(val):\n",
        "        print(f\"Column {col} is NaN in row 0\")\n"
      ],
      "metadata": {
        "colab": {
          "base_uri": "https://localhost:8080/"
        },
        "id": "K-CR7miEgUmZ",
        "outputId": "ec684e10-6cfd-4820-8aa0-37c63534103a"
      },
      "execution_count": 22,
      "outputs": [
        {
          "output_type": "stream",
          "name": "stdout",
          "text": [
            "Column Alabama!!Estimate is NaN in row 0\n",
            "Column Alaska!!Estimate is NaN in row 0\n",
            "Column Arizona!!Estimate is NaN in row 0\n",
            "Column Arkansas!!Estimate is NaN in row 0\n",
            "Column California!!Estimate is NaN in row 0\n",
            "Column Colorado!!Estimate is NaN in row 0\n",
            "Column Connecticut!!Estimate is NaN in row 0\n",
            "Column Delaware!!Estimate is NaN in row 0\n",
            "Column District of Columbia!!Estimate is NaN in row 0\n",
            "Column Florida!!Estimate is NaN in row 0\n",
            "Column Georgia!!Estimate is NaN in row 0\n",
            "Column Hawaii!!Estimate is NaN in row 0\n",
            "Column Idaho!!Estimate is NaN in row 0\n",
            "Column Illinois!!Estimate is NaN in row 0\n",
            "Column Indiana!!Estimate is NaN in row 0\n",
            "Column Iowa!!Estimate is NaN in row 0\n",
            "Column Kansas!!Estimate is NaN in row 0\n",
            "Column Kentucky!!Estimate is NaN in row 0\n",
            "Column Louisiana!!Estimate is NaN in row 0\n",
            "Column Maine!!Estimate is NaN in row 0\n",
            "Column Maryland!!Estimate is NaN in row 0\n",
            "Column Massachusetts!!Estimate is NaN in row 0\n",
            "Column Michigan!!Estimate is NaN in row 0\n",
            "Column Minnesota!!Estimate is NaN in row 0\n",
            "Column Mississippi!!Estimate is NaN in row 0\n",
            "Column Missouri!!Estimate is NaN in row 0\n",
            "Column Montana!!Estimate is NaN in row 0\n",
            "Column Nebraska!!Estimate is NaN in row 0\n",
            "Column Nevada!!Estimate is NaN in row 0\n",
            "Column New Hampshire!!Estimate is NaN in row 0\n",
            "Column New Jersey!!Estimate is NaN in row 0\n",
            "Column New Mexico!!Estimate is NaN in row 0\n",
            "Column New York!!Estimate is NaN in row 0\n",
            "Column North Carolina!!Estimate is NaN in row 0\n",
            "Column North Dakota!!Estimate is NaN in row 0\n",
            "Column Ohio!!Estimate is NaN in row 0\n",
            "Column Oklahoma!!Estimate is NaN in row 0\n",
            "Column Oregon!!Estimate is NaN in row 0\n",
            "Column Pennsylvania!!Estimate is NaN in row 0\n",
            "Column Rhode Island!!Estimate is NaN in row 0\n",
            "Column South Carolina!!Estimate is NaN in row 0\n",
            "Column South Dakota!!Estimate is NaN in row 0\n",
            "Column Tennessee!!Estimate is NaN in row 0\n",
            "Column Texas!!Estimate is NaN in row 0\n",
            "Column Utah!!Estimate is NaN in row 0\n",
            "Column Vermont!!Estimate is NaN in row 0\n",
            "Column Virginia!!Estimate is NaN in row 0\n",
            "Column Washington!!Estimate is NaN in row 0\n",
            "Column West Virginia!!Estimate is NaN in row 0\n",
            "Column Wisconsin!!Estimate is NaN in row 0\n",
            "Column Wyoming!!Estimate is NaN in row 0\n",
            "Column Puerto Rico!!Estimate is NaN in row 0\n"
          ]
        }
      ]
    },
    {
      "cell_type": "code",
      "source": [
        "print(pop.head(10))\n"
      ],
      "metadata": {
        "colab": {
          "base_uri": "https://localhost:8080/"
        },
        "id": "lzl9bVPQgly4",
        "outputId": "03288c04-62a0-4986-d6b6-2d68fb69d2ef"
      },
      "execution_count": 23,
      "outputs": [
        {
          "output_type": "stream",
          "name": "stdout",
          "text": [
            "                            Label (Grouping) Alabama!!Estimate  \\\n",
            "0                                SEX AND AGE               NaN   \n",
            "1                           Total population         5,108,468   \n",
            "2                                       Male         2,471,801   \n",
            "3                                     Female         2,636,667   \n",
            "4          Sex ratio (males per 100 females)              93.7   \n",
            "5                              Under 5 years           288,019   \n",
            "6                               5 to 9 years           305,731   \n",
            "7                             10 to 14 years           331,262   \n",
            "8                             15 to 19 years           350,694   \n",
            "9                             20 to 24 years           333,795   \n",
            "\n",
            "  Alabama!!Margin of Error Alabama!!Percent Alabama!!Percent Margin of Error  \\\n",
            "0                      NaN              NaN                              NaN   \n",
            "1                    *****        5,108,468                              (X)   \n",
            "2                   ±5,359           48.40%                             ±0.1   \n",
            "3                   ±5,359           51.60%                             ±0.1   \n",
            "4                     ±0.4              (X)                              (X)   \n",
            "5                   ±3,288            5.60%                             ±0.1   \n",
            "6                   ±8,991            6.00%                             ±0.2   \n",
            "7                   ±8,268            6.50%                             ±0.2   \n",
            "8                   ±6,962            6.90%                             ±0.1   \n",
            "9                   ±7,179            6.50%                             ±0.1   \n",
            "\n",
            "  Alaska!!Estimate Alaska!!Margin of Error Alaska!!Percent  \\\n",
            "0              NaN                     NaN             NaN   \n",
            "1          733,406                   *****         733,406   \n",
            "2          385,855                  ±2,547          52.60%   \n",
            "3          347,551                  ±2,547          47.40%   \n",
            "4              111                    ±1.5             (X)   \n",
            "5           45,211                  ±1,366           6.20%   \n",
            "6           48,763                  ±2,570           6.60%   \n",
            "7           51,926                  ±2,834           7.10%   \n",
            "8           43,880                  ±3,216           6.00%   \n",
            "9           49,734                  ±4,230           6.80%   \n",
            "\n",
            "  Alaska!!Percent Margin of Error Arizona!!Estimate  ... Wisconsin!!Percent  \\\n",
            "0                             NaN               NaN  ...                NaN   \n",
            "1                             (X)         7,431,344  ...          5,910,955   \n",
            "2                            ±0.3         3,708,672  ...             50.10%   \n",
            "3                            ±0.3         3,722,672  ...             49.90%   \n",
            "4                             (X)              99.6  ...                (X)   \n",
            "5                            ±0.2           391,142  ...              5.20%   \n",
            "6                            ±0.4           435,723  ...              5.90%   \n",
            "7                            ±0.4           454,506  ...              6.00%   \n",
            "8                            ±0.4           501,122  ...              6.60%   \n",
            "9                            ±0.6           498,597  ...              6.70%   \n",
            "\n",
            "  Wisconsin!!Percent Margin of Error Wyoming!!Estimate  \\\n",
            "0                                NaN               NaN   \n",
            "1                                (X)           584,057   \n",
            "2                               ±0.1           295,735   \n",
            "3                               ±0.1           288,322   \n",
            "4                                (X)             102.6   \n",
            "5                               ±0.1            30,651   \n",
            "6                               ±0.1            36,438   \n",
            "7                               ±0.1            38,128   \n",
            "8                               ±0.1            40,417   \n",
            "9                               ±0.1            34,570   \n",
            "\n",
            "  Wyoming!!Margin of Error Wyoming!!Percent Wyoming!!Percent Margin of Error  \\\n",
            "0                      NaN              NaN                              NaN   \n",
            "1                    *****          584,057                              (X)   \n",
            "2                   ±2,677           50.60%                             ±0.5   \n",
            "3                   ±2,677           49.40%                             ±0.5   \n",
            "4                     ±1.9              (X)                              (X)   \n",
            "5                   ±1,469            5.20%                             ±0.3   \n",
            "6                   ±2,371            6.20%                             ±0.4   \n",
            "7                   ±2,677            6.50%                             ±0.5   \n",
            "8                   ±2,635            6.90%                             ±0.5   \n",
            "9                   ±1,819            5.90%                             ±0.3   \n",
            "\n",
            "  Puerto Rico!!Estimate Puerto Rico!!Margin of Error Puerto Rico!!Percent  \\\n",
            "0                   NaN                          NaN                  NaN   \n",
            "1             3,205,691                        *****            3,205,691   \n",
            "2             1,518,924                       ±4,095               47.40%   \n",
            "3             1,686,767                       ±4,095               52.60%   \n",
            "4                    90                         ±0.5                  (X)   \n",
            "5                94,391                       ±2,144                2.90%   \n",
            "6               127,623                       ±6,263                4.00%   \n",
            "7               166,130                       ±6,060                5.20%   \n",
            "8               191,446                       ±4,118                6.00%   \n",
            "9               218,847                       ±4,443                6.80%   \n",
            "\n",
            "  Puerto Rico!!Percent Margin of Error  \n",
            "0                                  NaN  \n",
            "1                                  (X)  \n",
            "2                                 ±0.1  \n",
            "3                                 ±0.1  \n",
            "4                                  (X)  \n",
            "5                                 ±0.1  \n",
            "6                                 ±0.2  \n",
            "7                                 ±0.2  \n",
            "8                                 ±0.1  \n",
            "9                                 ±0.1  \n",
            "\n",
            "[10 rows x 209 columns]\n"
          ]
        }
      ]
    },
    {
      "cell_type": "code",
      "source": [
        "print(pop['Alabama!!Estimate'][:10])\n"
      ],
      "metadata": {
        "colab": {
          "base_uri": "https://localhost:8080/"
        },
        "id": "fN-DxKElgnae",
        "outputId": "6a922dd2-6b8b-4c12-e30b-d9ad82ba4d6b"
      },
      "execution_count": 24,
      "outputs": [
        {
          "output_type": "stream",
          "name": "stdout",
          "text": [
            "0          NaN\n",
            "1    5,108,468\n",
            "2    2,471,801\n",
            "3    2,636,667\n",
            "4         93.7\n",
            "5      288,019\n",
            "6      305,731\n",
            "7      331,262\n",
            "8      350,694\n",
            "9      333,795\n",
            "Name: Alabama!!Estimate, dtype: object\n"
          ]
        }
      ]
    },
    {
      "cell_type": "code",
      "source": [
        "pop_data = []\n",
        "for col in pop_cols:\n",
        "    series = pop[col].dropna()\n",
        "    if not series.empty:\n",
        "        val = series.values[0]\n",
        "        state = col.split('!!')[0]\n",
        "        pop_data.append({'State': state, '2022 Population': int(val)})\n",
        "pop_2022 = pd.DataFrame(pop_data)\n",
        "print(pop_2022.head())\n"
      ],
      "metadata": {
        "colab": {
          "base_uri": "https://localhost:8080/",
          "height": 207
        },
        "id": "Rxnt-vn5gqkE",
        "outputId": "0b42dc6d-9cb7-4268-f11b-141413497ede"
      },
      "execution_count": 25,
      "outputs": [
        {
          "output_type": "error",
          "ename": "ValueError",
          "evalue": "invalid literal for int() with base 10: '5,108,468'",
          "traceback": [
            "\u001b[0;31m---------------------------------------------------------------------------\u001b[0m",
            "\u001b[0;31mValueError\u001b[0m                                Traceback (most recent call last)",
            "\u001b[0;32m<ipython-input-25-a59765bdec9e>\u001b[0m in \u001b[0;36m<cell line: 0>\u001b[0;34m()\u001b[0m\n\u001b[1;32m      5\u001b[0m         \u001b[0mval\u001b[0m \u001b[0;34m=\u001b[0m \u001b[0mseries\u001b[0m\u001b[0;34m.\u001b[0m\u001b[0mvalues\u001b[0m\u001b[0;34m[\u001b[0m\u001b[0;36m0\u001b[0m\u001b[0;34m]\u001b[0m\u001b[0;34m\u001b[0m\u001b[0;34m\u001b[0m\u001b[0m\n\u001b[1;32m      6\u001b[0m         \u001b[0mstate\u001b[0m \u001b[0;34m=\u001b[0m \u001b[0mcol\u001b[0m\u001b[0;34m.\u001b[0m\u001b[0msplit\u001b[0m\u001b[0;34m(\u001b[0m\u001b[0;34m'!!'\u001b[0m\u001b[0;34m)\u001b[0m\u001b[0;34m[\u001b[0m\u001b[0;36m0\u001b[0m\u001b[0;34m]\u001b[0m\u001b[0;34m\u001b[0m\u001b[0;34m\u001b[0m\u001b[0m\n\u001b[0;32m----> 7\u001b[0;31m         \u001b[0mpop_data\u001b[0m\u001b[0;34m.\u001b[0m\u001b[0mappend\u001b[0m\u001b[0;34m(\u001b[0m\u001b[0;34m{\u001b[0m\u001b[0;34m'State'\u001b[0m\u001b[0;34m:\u001b[0m \u001b[0mstate\u001b[0m\u001b[0;34m,\u001b[0m \u001b[0;34m'2022 Population'\u001b[0m\u001b[0;34m:\u001b[0m \u001b[0mint\u001b[0m\u001b[0;34m(\u001b[0m\u001b[0mval\u001b[0m\u001b[0;34m)\u001b[0m\u001b[0;34m}\u001b[0m\u001b[0;34m)\u001b[0m\u001b[0;34m\u001b[0m\u001b[0;34m\u001b[0m\u001b[0m\n\u001b[0m\u001b[1;32m      8\u001b[0m \u001b[0mpop_2022\u001b[0m \u001b[0;34m=\u001b[0m \u001b[0mpd\u001b[0m\u001b[0;34m.\u001b[0m\u001b[0mDataFrame\u001b[0m\u001b[0;34m(\u001b[0m\u001b[0mpop_data\u001b[0m\u001b[0;34m)\u001b[0m\u001b[0;34m\u001b[0m\u001b[0;34m\u001b[0m\u001b[0m\n\u001b[1;32m      9\u001b[0m \u001b[0mprint\u001b[0m\u001b[0;34m(\u001b[0m\u001b[0mpop_2022\u001b[0m\u001b[0;34m.\u001b[0m\u001b[0mhead\u001b[0m\u001b[0;34m(\u001b[0m\u001b[0;34m)\u001b[0m\u001b[0;34m)\u001b[0m\u001b[0;34m\u001b[0m\u001b[0;34m\u001b[0m\u001b[0m\n",
            "\u001b[0;31mValueError\u001b[0m: invalid literal for int() with base 10: '5,108,468'"
          ]
        }
      ]
    },
    {
      "cell_type": "code",
      "source": [
        "pop_data = []\n",
        "for col in pop_cols:\n",
        "    series = pop[col].dropna()\n",
        "    if not series.empty:\n",
        "        val = series.values[0]\n",
        "        state = col.split('!!')[0]\n",
        "        try:\n",
        "            val_clean = int(str(val).replace(',', ''))  # remove commas\n",
        "            pop_data.append({'State': state, '2022 Population': val_clean})\n",
        "        except ValueError:\n",
        "            print(f\"Skipping {state}, value: {val}\")\n",
        "pop_2022 = pd.DataFrame(pop_data)\n",
        "print(pop_2022.head())\n"
      ],
      "metadata": {
        "colab": {
          "base_uri": "https://localhost:8080/"
        },
        "id": "eN3ON6nzhCqS",
        "outputId": "dcd03d94-6b3b-4b7d-a3ee-fb4009e8363d"
      },
      "execution_count": 26,
      "outputs": [
        {
          "output_type": "stream",
          "name": "stdout",
          "text": [
            "        State  2022 Population\n",
            "0     Alabama          5108468\n",
            "1      Alaska           733406\n",
            "2     Arizona          7431344\n",
            "3    Arkansas          3067732\n",
            "4  California         38965193\n"
          ]
        }
      ]
    },
    {
      "cell_type": "code",
      "source": [
        "mhi_cols = [col for col in mhi.columns if col.endswith('Median income (dollars)!!Estimate')]\n",
        "states_mhi = [col.split('!!')[0] for col in mhi_cols]\n",
        "\n",
        "mhi_data = []\n",
        "for col, state in zip(mhi_cols, states_mhi):\n",
        "    series = mhi[col].dropna()\n",
        "    if not series.empty:\n",
        "        val = series.values[0]\n",
        "        try:\n",
        "            val_clean = int(str(val).replace(',', ''))\n",
        "            mhi_data.append({'State': state, '2022 Median Household Income': val_clean})\n",
        "        except ValueError:\n",
        "            print(f\"Skipping {state}, value: {val}\")\n",
        "mhi_2022 = pd.DataFrame(mhi_data)\n",
        "print(mhi_2022.head())\n"
      ],
      "metadata": {
        "colab": {
          "base_uri": "https://localhost:8080/"
        },
        "id": "aQBiWItohPmZ",
        "outputId": "c79b9ba7-026f-4483-9be8-2212b0e77d7a"
      },
      "execution_count": 27,
      "outputs": [
        {
          "output_type": "stream",
          "name": "stdout",
          "text": [
            "        State  2022 Median Household Income\n",
            "0     Alabama                         62027\n",
            "1      Alaska                         89336\n",
            "2     Arizona                         76872\n",
            "3    Arkansas                         58773\n",
            "4  California                         96334\n"
          ]
        }
      ]
    },
    {
      "cell_type": "code",
      "source": [
        "print(redfin.head(10))\n",
        "print(redfin.columns)\n"
      ],
      "metadata": {
        "colab": {
          "base_uri": "https://localhost:8080/"
        },
        "id": "qJai_m3EhRPD",
        "outputId": "eaf4d1a0-0d15-4f82-96ff-0b3a70a8c6b9"
      },
      "execution_count": 28,
      "outputs": [
        {
          "output_type": "stream",
          "name": "stdout",
          "text": [
            "    Unnamed: 0 Month of Period End Month of Period End.1  \\\n",
            "0       Region        January 2012         February 2012   \n",
            "1      Alabama               $131K                 $153K   \n",
            "2       Alaska               $240K                 $246K   \n",
            "3      Arizona               $125K                 $127K   \n",
            "4     Arkansas               $100K                 $108K   \n",
            "5   California               $281K                 $286K   \n",
            "6     Colorado               $220K                 $204K   \n",
            "7     Columbia               $353K                 $395K   \n",
            "8  Connecticut               $175K                 $180K   \n",
            "9     Delaware               $162K                 $158K   \n",
            "\n",
            "  Month of Period End.2 Month of Period End.3 Month of Period End.4  \\\n",
            "0            March 2012            April 2012              May 2012   \n",
            "1                 $140K                 $142K                 $155K   \n",
            "2                 $243K                 $242K                 $251K   \n",
            "3                 $135K                 $142K                 $149K   \n",
            "4                 $127K                 $120K                 $123K   \n",
            "5                 $306K                 $321K                 $329K   \n",
            "6                 $220K                 $231K                 $246K   \n",
            "7                 $395K                 $435K                 $435K   \n",
            "8                 $186K                 $194K                 $204K   \n",
            "9                 $171K                 $174K                 $178K   \n",
            "\n",
            "  Month of Period End.5 Month of Period End.6 Month of Period End.7  \\\n",
            "0             June 2012             July 2012           August 2012   \n",
            "1                 $164K                 $154K                 $158K   \n",
            "2                 $260K                 $254K                 $258K   \n",
            "3                 $151K                 $150K                 $153K   \n",
            "4                 $121K                 $115K                 $125K   \n",
            "5                 $340K                 $345K                 $343K   \n",
            "6                 $249K                 $239K                 $237K   \n",
            "7                 $448K                 $444K                 $433K   \n",
            "8                 $213K                 $212K                 $209K   \n",
            "9                 $192K                 $190K                 $183K   \n",
            "\n",
            "  Month of Period End.8  ... Month of Period End.148 Month of Period End.149  \\\n",
            "0        September 2012  ...                May 2024               June 2024   \n",
            "1                 $145K  ...                   $288K                   $293K   \n",
            "2                 $259K  ...                   $391K                   $395K   \n",
            "3                 $154K  ...                   $450K                   $450K   \n",
            "4                 $137K  ...                   $263K                   $267K   \n",
            "5                 $347K  ...                   $859K                   $857K   \n",
            "6                 $240K  ...                   $603K                   $608K   \n",
            "7                 $420K  ...                   $690K                   $711K   \n",
            "8                 $201K  ...                   $424K                   $476K   \n",
            "9                 $194K  ...                   $360K                   $355K   \n",
            "\n",
            "  Month of Period End.150 Month of Period End.151 Month of Period End.152  \\\n",
            "0               July 2024             August 2024          September 2024   \n",
            "1                   $286K                   $280K                   $281K   \n",
            "2                   $388K                   $398K                   $388K   \n",
            "3                   $443K                   $441K                   $441K   \n",
            "4                   $256K                   $264K                   $256K   \n",
            "5                   $837K                   $817K                   $815K   \n",
            "6                   $593K                   $593K                   $611K   \n",
            "7                   $675K                   $630K                   $606K   \n",
            "8                   $461K                   $459K                   $430K   \n",
            "9                   $353K                   $369K                   $365K   \n",
            "\n",
            "  Month of Period End.153 Month of Period End.154 Month of Period End.155  \\\n",
            "0            October 2024           November 2024           December 2024   \n",
            "1                   $275K                   $279K                   $280K   \n",
            "2                   $387K                   $387K                   $384K   \n",
            "3                   $445K                   $446K                   $449K   \n",
            "4                   $258K                   $259K                   $256K   \n",
            "5                   $839K                   $830K                   $802K   \n",
            "6                   $627K                   $622K                   $600K   \n",
            "7                   $660K                   $697K                   $625K   \n",
            "8                   $416K                   $423K                   $435K   \n",
            "9                   $359K                   $354K                   $350K   \n",
            "\n",
            "  Month of Period End.156 Month of Period End.157  \n",
            "0            January 2025           February 2025  \n",
            "1                   $276K                   $283K  \n",
            "2                   $387K                   $385K  \n",
            "3                   $453K                   $456K  \n",
            "4                   $255K                   $255K  \n",
            "5                   $785K                   $833K  \n",
            "6                   $607K                   $583K  \n",
            "7                   $551K                   $659K  \n",
            "8                   $415K                   $416K  \n",
            "9                   $340K                   $352K  \n",
            "\n",
            "[10 rows x 159 columns]\n",
            "Index(['Unnamed: 0', 'Month of Period End', 'Month of Period End.1',\n",
            "       'Month of Period End.2', 'Month of Period End.3',\n",
            "       'Month of Period End.4', 'Month of Period End.5',\n",
            "       'Month of Period End.6', 'Month of Period End.7',\n",
            "       'Month of Period End.8',\n",
            "       ...\n",
            "       'Month of Period End.148', 'Month of Period End.149',\n",
            "       'Month of Period End.150', 'Month of Period End.151',\n",
            "       'Month of Period End.152', 'Month of Period End.153',\n",
            "       'Month of Period End.154', 'Month of Period End.155',\n",
            "       'Month of Period End.156', 'Month of Period End.157'],\n",
            "      dtype='object', length=159)\n"
          ]
        }
      ]
    },
    {
      "cell_type": "code",
      "source": [
        "df = mhi_2022.merge(pop_2022, on='State', how='inner').merge(redfin_2022, on='State', how='inner')\n"
      ],
      "metadata": {
        "colab": {
          "base_uri": "https://localhost:8080/",
          "height": 139
        },
        "id": "lcmnkfnbhVBh",
        "outputId": "5229881d-7875-475d-f27c-3ef7f9feb3a0"
      },
      "execution_count": 29,
      "outputs": [
        {
          "output_type": "error",
          "ename": "NameError",
          "evalue": "name 'redfin_2022' is not defined",
          "traceback": [
            "\u001b[0;31m---------------------------------------------------------------------------\u001b[0m",
            "\u001b[0;31mNameError\u001b[0m                                 Traceback (most recent call last)",
            "\u001b[0;32m<ipython-input-29-cd84473b78be>\u001b[0m in \u001b[0;36m<cell line: 0>\u001b[0;34m()\u001b[0m\n\u001b[0;32m----> 1\u001b[0;31m \u001b[0mdf\u001b[0m \u001b[0;34m=\u001b[0m \u001b[0mmhi_2022\u001b[0m\u001b[0;34m.\u001b[0m\u001b[0mmerge\u001b[0m\u001b[0;34m(\u001b[0m\u001b[0mpop_2022\u001b[0m\u001b[0;34m,\u001b[0m \u001b[0mon\u001b[0m\u001b[0;34m=\u001b[0m\u001b[0;34m'State'\u001b[0m\u001b[0;34m,\u001b[0m \u001b[0mhow\u001b[0m\u001b[0;34m=\u001b[0m\u001b[0;34m'inner'\u001b[0m\u001b[0;34m)\u001b[0m\u001b[0;34m.\u001b[0m\u001b[0mmerge\u001b[0m\u001b[0;34m(\u001b[0m\u001b[0mredfin_2022\u001b[0m\u001b[0;34m,\u001b[0m \u001b[0mon\u001b[0m\u001b[0;34m=\u001b[0m\u001b[0;34m'State'\u001b[0m\u001b[0;34m,\u001b[0m \u001b[0mhow\u001b[0m\u001b[0;34m=\u001b[0m\u001b[0;34m'inner'\u001b[0m\u001b[0;34m)\u001b[0m\u001b[0;34m\u001b[0m\u001b[0;34m\u001b[0m\u001b[0m\n\u001b[0m",
            "\u001b[0;31mNameError\u001b[0m: name 'redfin_2022' is not defined"
          ]
        }
      ]
    },
    {
      "cell_type": "code",
      "source": [
        "print(redfin.head(10))\n",
        "print(redfin.columns)\n"
      ],
      "metadata": {
        "colab": {
          "base_uri": "https://localhost:8080/"
        },
        "id": "KbZ6i9pEhotM",
        "outputId": "e95f7f60-0d8b-4669-e382-2cdfb5ee4c13"
      },
      "execution_count": 30,
      "outputs": [
        {
          "output_type": "stream",
          "name": "stdout",
          "text": [
            "    Unnamed: 0 Month of Period End Month of Period End.1  \\\n",
            "0       Region        January 2012         February 2012   \n",
            "1      Alabama               $131K                 $153K   \n",
            "2       Alaska               $240K                 $246K   \n",
            "3      Arizona               $125K                 $127K   \n",
            "4     Arkansas               $100K                 $108K   \n",
            "5   California               $281K                 $286K   \n",
            "6     Colorado               $220K                 $204K   \n",
            "7     Columbia               $353K                 $395K   \n",
            "8  Connecticut               $175K                 $180K   \n",
            "9     Delaware               $162K                 $158K   \n",
            "\n",
            "  Month of Period End.2 Month of Period End.3 Month of Period End.4  \\\n",
            "0            March 2012            April 2012              May 2012   \n",
            "1                 $140K                 $142K                 $155K   \n",
            "2                 $243K                 $242K                 $251K   \n",
            "3                 $135K                 $142K                 $149K   \n",
            "4                 $127K                 $120K                 $123K   \n",
            "5                 $306K                 $321K                 $329K   \n",
            "6                 $220K                 $231K                 $246K   \n",
            "7                 $395K                 $435K                 $435K   \n",
            "8                 $186K                 $194K                 $204K   \n",
            "9                 $171K                 $174K                 $178K   \n",
            "\n",
            "  Month of Period End.5 Month of Period End.6 Month of Period End.7  \\\n",
            "0             June 2012             July 2012           August 2012   \n",
            "1                 $164K                 $154K                 $158K   \n",
            "2                 $260K                 $254K                 $258K   \n",
            "3                 $151K                 $150K                 $153K   \n",
            "4                 $121K                 $115K                 $125K   \n",
            "5                 $340K                 $345K                 $343K   \n",
            "6                 $249K                 $239K                 $237K   \n",
            "7                 $448K                 $444K                 $433K   \n",
            "8                 $213K                 $212K                 $209K   \n",
            "9                 $192K                 $190K                 $183K   \n",
            "\n",
            "  Month of Period End.8  ... Month of Period End.148 Month of Period End.149  \\\n",
            "0        September 2012  ...                May 2024               June 2024   \n",
            "1                 $145K  ...                   $288K                   $293K   \n",
            "2                 $259K  ...                   $391K                   $395K   \n",
            "3                 $154K  ...                   $450K                   $450K   \n",
            "4                 $137K  ...                   $263K                   $267K   \n",
            "5                 $347K  ...                   $859K                   $857K   \n",
            "6                 $240K  ...                   $603K                   $608K   \n",
            "7                 $420K  ...                   $690K                   $711K   \n",
            "8                 $201K  ...                   $424K                   $476K   \n",
            "9                 $194K  ...                   $360K                   $355K   \n",
            "\n",
            "  Month of Period End.150 Month of Period End.151 Month of Period End.152  \\\n",
            "0               July 2024             August 2024          September 2024   \n",
            "1                   $286K                   $280K                   $281K   \n",
            "2                   $388K                   $398K                   $388K   \n",
            "3                   $443K                   $441K                   $441K   \n",
            "4                   $256K                   $264K                   $256K   \n",
            "5                   $837K                   $817K                   $815K   \n",
            "6                   $593K                   $593K                   $611K   \n",
            "7                   $675K                   $630K                   $606K   \n",
            "8                   $461K                   $459K                   $430K   \n",
            "9                   $353K                   $369K                   $365K   \n",
            "\n",
            "  Month of Period End.153 Month of Period End.154 Month of Period End.155  \\\n",
            "0            October 2024           November 2024           December 2024   \n",
            "1                   $275K                   $279K                   $280K   \n",
            "2                   $387K                   $387K                   $384K   \n",
            "3                   $445K                   $446K                   $449K   \n",
            "4                   $258K                   $259K                   $256K   \n",
            "5                   $839K                   $830K                   $802K   \n",
            "6                   $627K                   $622K                   $600K   \n",
            "7                   $660K                   $697K                   $625K   \n",
            "8                   $416K                   $423K                   $435K   \n",
            "9                   $359K                   $354K                   $350K   \n",
            "\n",
            "  Month of Period End.156 Month of Period End.157  \n",
            "0            January 2025           February 2025  \n",
            "1                   $276K                   $283K  \n",
            "2                   $387K                   $385K  \n",
            "3                   $453K                   $456K  \n",
            "4                   $255K                   $255K  \n",
            "5                   $785K                   $833K  \n",
            "6                   $607K                   $583K  \n",
            "7                   $551K                   $659K  \n",
            "8                   $415K                   $416K  \n",
            "9                   $340K                   $352K  \n",
            "\n",
            "[10 rows x 159 columns]\n",
            "Index(['Unnamed: 0', 'Month of Period End', 'Month of Period End.1',\n",
            "       'Month of Period End.2', 'Month of Period End.3',\n",
            "       'Month of Period End.4', 'Month of Period End.5',\n",
            "       'Month of Period End.6', 'Month of Period End.7',\n",
            "       'Month of Period End.8',\n",
            "       ...\n",
            "       'Month of Period End.148', 'Month of Period End.149',\n",
            "       'Month of Period End.150', 'Month of Period End.151',\n",
            "       'Month of Period End.152', 'Month of Period End.153',\n",
            "       'Month of Period End.154', 'Month of Period End.155',\n",
            "       'Month of Period End.156', 'Month of Period End.157'],\n",
            "      dtype='object', length=159)\n"
          ]
        }
      ]
    },
    {
      "cell_type": "code",
      "source": [
        "# Show all column names\n",
        "print(list(redfin.columns))\n"
      ],
      "metadata": {
        "colab": {
          "base_uri": "https://localhost:8080/"
        },
        "id": "uqM2NYqrh08N",
        "outputId": "02ee2860-9937-4e1e-aaee-e80effdfc4e3"
      },
      "execution_count": 31,
      "outputs": [
        {
          "output_type": "stream",
          "name": "stdout",
          "text": [
            "['Unnamed: 0', 'Month of Period End', 'Month of Period End.1', 'Month of Period End.2', 'Month of Period End.3', 'Month of Period End.4', 'Month of Period End.5', 'Month of Period End.6', 'Month of Period End.7', 'Month of Period End.8', 'Month of Period End.9', 'Month of Period End.10', 'Month of Period End.11', 'Month of Period End.12', 'Month of Period End.13', 'Month of Period End.14', 'Month of Period End.15', 'Month of Period End.16', 'Month of Period End.17', 'Month of Period End.18', 'Month of Period End.19', 'Month of Period End.20', 'Month of Period End.21', 'Month of Period End.22', 'Month of Period End.23', 'Month of Period End.24', 'Month of Period End.25', 'Month of Period End.26', 'Month of Period End.27', 'Month of Period End.28', 'Month of Period End.29', 'Month of Period End.30', 'Month of Period End.31', 'Month of Period End.32', 'Month of Period End.33', 'Month of Period End.34', 'Month of Period End.35', 'Month of Period End.36', 'Month of Period End.37', 'Month of Period End.38', 'Month of Period End.39', 'Month of Period End.40', 'Month of Period End.41', 'Month of Period End.42', 'Month of Period End.43', 'Month of Period End.44', 'Month of Period End.45', 'Month of Period End.46', 'Month of Period End.47', 'Month of Period End.48', 'Month of Period End.49', 'Month of Period End.50', 'Month of Period End.51', 'Month of Period End.52', 'Month of Period End.53', 'Month of Period End.54', 'Month of Period End.55', 'Month of Period End.56', 'Month of Period End.57', 'Month of Period End.58', 'Month of Period End.59', 'Month of Period End.60', 'Month of Period End.61', 'Month of Period End.62', 'Month of Period End.63', 'Month of Period End.64', 'Month of Period End.65', 'Month of Period End.66', 'Month of Period End.67', 'Month of Period End.68', 'Month of Period End.69', 'Month of Period End.70', 'Month of Period End.71', 'Month of Period End.72', 'Month of Period End.73', 'Month of Period End.74', 'Month of Period End.75', 'Month of Period End.76', 'Month of Period End.77', 'Month of Period End.78', 'Month of Period End.79', 'Month of Period End.80', 'Month of Period End.81', 'Month of Period End.82', 'Month of Period End.83', 'Month of Period End.84', 'Month of Period End.85', 'Month of Period End.86', 'Month of Period End.87', 'Month of Period End.88', 'Month of Period End.89', 'Month of Period End.90', 'Month of Period End.91', 'Month of Period End.92', 'Month of Period End.93', 'Month of Period End.94', 'Month of Period End.95', 'Month of Period End.96', 'Month of Period End.97', 'Month of Period End.98', 'Month of Period End.99', 'Month of Period End.100', 'Month of Period End.101', 'Month of Period End.102', 'Month of Period End.103', 'Month of Period End.104', 'Month of Period End.105', 'Month of Period End.106', 'Month of Period End.107', 'Month of Period End.108', 'Month of Period End.109', 'Month of Period End.110', 'Month of Period End.111', 'Month of Period End.112', 'Month of Period End.113', 'Month of Period End.114', 'Month of Period End.115', 'Month of Period End.116', 'Month of Period End.117', 'Month of Period End.118', 'Month of Period End.119', 'Month of Period End.120', 'Month of Period End.121', 'Month of Period End.122', 'Month of Period End.123', 'Month of Period End.124', 'Month of Period End.125', 'Month of Period End.126', 'Month of Period End.127', 'Month of Period End.128', 'Month of Period End.129', 'Month of Period End.130', 'Month of Period End.131', 'Month of Period End.132', 'Month of Period End.133', 'Month of Period End.134', 'Month of Period End.135', 'Month of Period End.136', 'Month of Period End.137', 'Month of Period End.138', 'Month of Period End.139', 'Month of Period End.140', 'Month of Period End.141', 'Month of Period End.142', 'Month of Period End.143', 'Month of Period End.144', 'Month of Period End.145', 'Month of Period End.146', 'Month of Period End.147', 'Month of Period End.148', 'Month of Period End.149', 'Month of Period End.150', 'Month of Period End.151', 'Month of Period End.152', 'Month of Period End.153', 'Month of Period End.154', 'Month of Period End.155', 'Month of Period End.156', 'Month of Period End.157']\n"
          ]
        }
      ]
    },
    {
      "cell_type": "code",
      "source": [
        "# Find the column for December 2022\n",
        "for col in redfin.columns:\n",
        "    if \"December 2022\" in col:\n",
        "        print(col)\n"
      ],
      "metadata": {
        "id": "j37Yq2toh2Q0"
      },
      "execution_count": 32,
      "outputs": []
    },
    {
      "cell_type": "code",
      "source": [
        "# Replace 'Month of Period End.131' with the actual column name you find for December 2022\n",
        "dec2022_col = None\n",
        "for col in redfin.columns:\n",
        "    if \"December 2022\" in col:\n",
        "        dec2022_col = col\n",
        "        break\n",
        "\n",
        "# Now create DataFrame\n",
        "redfin_2022 = redfin.iloc[1:].copy()  # Skip the first row (header/label row)\n",
        "redfin_2022 = redfin_2022[['Unnamed: 0', dec2022_col]]\n",
        "redfin_2022.columns = ['State', '2022 Median Sale Price']\n",
        "\n",
        "# Remove $ and commas, convert to int\n",
        "redfin_2022['2022 Median Sale Price'] = redfin_2022['2022 Median Sale Price'].str.replace('$', '').str.replace('K', '000').str.replace(',', '').str.strip()\n",
        "redfin_2022['2022 Median Sale Price'] = redfin_2022['2022 Median Sale Price'].astype(int)\n",
        "\n",
        "print(redfin_2022.head())\n"
      ],
      "metadata": {
        "colab": {
          "base_uri": "https://localhost:8080/",
          "height": 350
        },
        "id": "fiolyzjah5s3",
        "outputId": "ed6d6511-8941-4ac8-cd4d-483a96c4f10b"
      },
      "execution_count": 33,
      "outputs": [
        {
          "output_type": "error",
          "ename": "KeyError",
          "evalue": "'[None] not in index'",
          "traceback": [
            "\u001b[0;31m---------------------------------------------------------------------------\u001b[0m",
            "\u001b[0;31mKeyError\u001b[0m                                  Traceback (most recent call last)",
            "\u001b[0;32m<ipython-input-33-8fdf5c02a679>\u001b[0m in \u001b[0;36m<cell line: 0>\u001b[0;34m()\u001b[0m\n\u001b[1;32m      8\u001b[0m \u001b[0;31m# Now create DataFrame\u001b[0m\u001b[0;34m\u001b[0m\u001b[0;34m\u001b[0m\u001b[0m\n\u001b[1;32m      9\u001b[0m \u001b[0mredfin_2022\u001b[0m \u001b[0;34m=\u001b[0m \u001b[0mredfin\u001b[0m\u001b[0;34m.\u001b[0m\u001b[0miloc\u001b[0m\u001b[0;34m[\u001b[0m\u001b[0;36m1\u001b[0m\u001b[0;34m:\u001b[0m\u001b[0;34m]\u001b[0m\u001b[0;34m.\u001b[0m\u001b[0mcopy\u001b[0m\u001b[0;34m(\u001b[0m\u001b[0;34m)\u001b[0m  \u001b[0;31m# Skip the first row (header/label row)\u001b[0m\u001b[0;34m\u001b[0m\u001b[0;34m\u001b[0m\u001b[0m\n\u001b[0;32m---> 10\u001b[0;31m \u001b[0mredfin_2022\u001b[0m \u001b[0;34m=\u001b[0m \u001b[0mredfin_2022\u001b[0m\u001b[0;34m[\u001b[0m\u001b[0;34m[\u001b[0m\u001b[0;34m'Unnamed: 0'\u001b[0m\u001b[0;34m,\u001b[0m \u001b[0mdec2022_col\u001b[0m\u001b[0;34m]\u001b[0m\u001b[0;34m]\u001b[0m\u001b[0;34m\u001b[0m\u001b[0;34m\u001b[0m\u001b[0m\n\u001b[0m\u001b[1;32m     11\u001b[0m \u001b[0mredfin_2022\u001b[0m\u001b[0;34m.\u001b[0m\u001b[0mcolumns\u001b[0m \u001b[0;34m=\u001b[0m \u001b[0;34m[\u001b[0m\u001b[0;34m'State'\u001b[0m\u001b[0;34m,\u001b[0m \u001b[0;34m'2022 Median Sale Price'\u001b[0m\u001b[0;34m]\u001b[0m\u001b[0;34m\u001b[0m\u001b[0;34m\u001b[0m\u001b[0m\n\u001b[1;32m     12\u001b[0m \u001b[0;34m\u001b[0m\u001b[0m\n",
            "\u001b[0;32m/usr/local/lib/python3.11/dist-packages/pandas/core/frame.py\u001b[0m in \u001b[0;36m__getitem__\u001b[0;34m(self, key)\u001b[0m\n\u001b[1;32m   4106\u001b[0m             \u001b[0;32mif\u001b[0m \u001b[0mis_iterator\u001b[0m\u001b[0;34m(\u001b[0m\u001b[0mkey\u001b[0m\u001b[0;34m)\u001b[0m\u001b[0;34m:\u001b[0m\u001b[0;34m\u001b[0m\u001b[0;34m\u001b[0m\u001b[0m\n\u001b[1;32m   4107\u001b[0m                 \u001b[0mkey\u001b[0m \u001b[0;34m=\u001b[0m \u001b[0mlist\u001b[0m\u001b[0;34m(\u001b[0m\u001b[0mkey\u001b[0m\u001b[0;34m)\u001b[0m\u001b[0;34m\u001b[0m\u001b[0;34m\u001b[0m\u001b[0m\n\u001b[0;32m-> 4108\u001b[0;31m             \u001b[0mindexer\u001b[0m \u001b[0;34m=\u001b[0m \u001b[0mself\u001b[0m\u001b[0;34m.\u001b[0m\u001b[0mcolumns\u001b[0m\u001b[0;34m.\u001b[0m\u001b[0m_get_indexer_strict\u001b[0m\u001b[0;34m(\u001b[0m\u001b[0mkey\u001b[0m\u001b[0;34m,\u001b[0m \u001b[0;34m\"columns\"\u001b[0m\u001b[0;34m)\u001b[0m\u001b[0;34m[\u001b[0m\u001b[0;36m1\u001b[0m\u001b[0;34m]\u001b[0m\u001b[0;34m\u001b[0m\u001b[0;34m\u001b[0m\u001b[0m\n\u001b[0m\u001b[1;32m   4109\u001b[0m \u001b[0;34m\u001b[0m\u001b[0m\n\u001b[1;32m   4110\u001b[0m         \u001b[0;31m# take() does not accept boolean indexers\u001b[0m\u001b[0;34m\u001b[0m\u001b[0;34m\u001b[0m\u001b[0m\n",
            "\u001b[0;32m/usr/local/lib/python3.11/dist-packages/pandas/core/indexes/base.py\u001b[0m in \u001b[0;36m_get_indexer_strict\u001b[0;34m(self, key, axis_name)\u001b[0m\n\u001b[1;32m   6198\u001b[0m             \u001b[0mkeyarr\u001b[0m\u001b[0;34m,\u001b[0m \u001b[0mindexer\u001b[0m\u001b[0;34m,\u001b[0m \u001b[0mnew_indexer\u001b[0m \u001b[0;34m=\u001b[0m \u001b[0mself\u001b[0m\u001b[0;34m.\u001b[0m\u001b[0m_reindex_non_unique\u001b[0m\u001b[0;34m(\u001b[0m\u001b[0mkeyarr\u001b[0m\u001b[0;34m)\u001b[0m\u001b[0;34m\u001b[0m\u001b[0;34m\u001b[0m\u001b[0m\n\u001b[1;32m   6199\u001b[0m \u001b[0;34m\u001b[0m\u001b[0m\n\u001b[0;32m-> 6200\u001b[0;31m         \u001b[0mself\u001b[0m\u001b[0;34m.\u001b[0m\u001b[0m_raise_if_missing\u001b[0m\u001b[0;34m(\u001b[0m\u001b[0mkeyarr\u001b[0m\u001b[0;34m,\u001b[0m \u001b[0mindexer\u001b[0m\u001b[0;34m,\u001b[0m \u001b[0maxis_name\u001b[0m\u001b[0;34m)\u001b[0m\u001b[0;34m\u001b[0m\u001b[0;34m\u001b[0m\u001b[0m\n\u001b[0m\u001b[1;32m   6201\u001b[0m \u001b[0;34m\u001b[0m\u001b[0m\n\u001b[1;32m   6202\u001b[0m         \u001b[0mkeyarr\u001b[0m \u001b[0;34m=\u001b[0m \u001b[0mself\u001b[0m\u001b[0;34m.\u001b[0m\u001b[0mtake\u001b[0m\u001b[0;34m(\u001b[0m\u001b[0mindexer\u001b[0m\u001b[0;34m)\u001b[0m\u001b[0;34m\u001b[0m\u001b[0;34m\u001b[0m\u001b[0m\n",
            "\u001b[0;32m/usr/local/lib/python3.11/dist-packages/pandas/core/indexes/base.py\u001b[0m in \u001b[0;36m_raise_if_missing\u001b[0;34m(self, key, indexer, axis_name)\u001b[0m\n\u001b[1;32m   6250\u001b[0m \u001b[0;34m\u001b[0m\u001b[0m\n\u001b[1;32m   6251\u001b[0m             \u001b[0mnot_found\u001b[0m \u001b[0;34m=\u001b[0m \u001b[0mlist\u001b[0m\u001b[0;34m(\u001b[0m\u001b[0mensure_index\u001b[0m\u001b[0;34m(\u001b[0m\u001b[0mkey\u001b[0m\u001b[0;34m)\u001b[0m\u001b[0;34m[\u001b[0m\u001b[0mmissing_mask\u001b[0m\u001b[0;34m.\u001b[0m\u001b[0mnonzero\u001b[0m\u001b[0;34m(\u001b[0m\u001b[0;34m)\u001b[0m\u001b[0;34m[\u001b[0m\u001b[0;36m0\u001b[0m\u001b[0;34m]\u001b[0m\u001b[0;34m]\u001b[0m\u001b[0;34m.\u001b[0m\u001b[0munique\u001b[0m\u001b[0;34m(\u001b[0m\u001b[0;34m)\u001b[0m\u001b[0;34m)\u001b[0m\u001b[0;34m\u001b[0m\u001b[0;34m\u001b[0m\u001b[0m\n\u001b[0;32m-> 6252\u001b[0;31m             \u001b[0;32mraise\u001b[0m \u001b[0mKeyError\u001b[0m\u001b[0;34m(\u001b[0m\u001b[0;34mf\"{not_found} not in index\"\u001b[0m\u001b[0;34m)\u001b[0m\u001b[0;34m\u001b[0m\u001b[0;34m\u001b[0m\u001b[0m\n\u001b[0m\u001b[1;32m   6253\u001b[0m \u001b[0;34m\u001b[0m\u001b[0m\n\u001b[1;32m   6254\u001b[0m     \u001b[0;34m@\u001b[0m\u001b[0moverload\u001b[0m\u001b[0;34m\u001b[0m\u001b[0;34m\u001b[0m\u001b[0m\n",
            "\u001b[0;31mKeyError\u001b[0m: '[None] not in index'"
          ]
        }
      ]
    },
    {
      "cell_type": "code",
      "source": [
        "for i, col in enumerate(redfin.columns):\n",
        "    print(i, col)\n",
        "    if '2022' in col:\n",
        "        print(\" --> 2022 candidate:\", col)\n"
      ],
      "metadata": {
        "colab": {
          "base_uri": "https://localhost:8080/"
        },
        "id": "8s_hsJAniKNa",
        "outputId": "e7484a6b-a3fb-4ff5-8fdc-5262ff389f9b"
      },
      "execution_count": 34,
      "outputs": [
        {
          "output_type": "stream",
          "name": "stdout",
          "text": [
            "0 Unnamed: 0\n",
            "1 Month of Period End\n",
            "2 Month of Period End.1\n",
            "3 Month of Period End.2\n",
            "4 Month of Period End.3\n",
            "5 Month of Period End.4\n",
            "6 Month of Period End.5\n",
            "7 Month of Period End.6\n",
            "8 Month of Period End.7\n",
            "9 Month of Period End.8\n",
            "10 Month of Period End.9\n",
            "11 Month of Period End.10\n",
            "12 Month of Period End.11\n",
            "13 Month of Period End.12\n",
            "14 Month of Period End.13\n",
            "15 Month of Period End.14\n",
            "16 Month of Period End.15\n",
            "17 Month of Period End.16\n",
            "18 Month of Period End.17\n",
            "19 Month of Period End.18\n",
            "20 Month of Period End.19\n",
            "21 Month of Period End.20\n",
            "22 Month of Period End.21\n",
            "23 Month of Period End.22\n",
            "24 Month of Period End.23\n",
            "25 Month of Period End.24\n",
            "26 Month of Period End.25\n",
            "27 Month of Period End.26\n",
            "28 Month of Period End.27\n",
            "29 Month of Period End.28\n",
            "30 Month of Period End.29\n",
            "31 Month of Period End.30\n",
            "32 Month of Period End.31\n",
            "33 Month of Period End.32\n",
            "34 Month of Period End.33\n",
            "35 Month of Period End.34\n",
            "36 Month of Period End.35\n",
            "37 Month of Period End.36\n",
            "38 Month of Period End.37\n",
            "39 Month of Period End.38\n",
            "40 Month of Period End.39\n",
            "41 Month of Period End.40\n",
            "42 Month of Period End.41\n",
            "43 Month of Period End.42\n",
            "44 Month of Period End.43\n",
            "45 Month of Period End.44\n",
            "46 Month of Period End.45\n",
            "47 Month of Period End.46\n",
            "48 Month of Period End.47\n",
            "49 Month of Period End.48\n",
            "50 Month of Period End.49\n",
            "51 Month of Period End.50\n",
            "52 Month of Period End.51\n",
            "53 Month of Period End.52\n",
            "54 Month of Period End.53\n",
            "55 Month of Period End.54\n",
            "56 Month of Period End.55\n",
            "57 Month of Period End.56\n",
            "58 Month of Period End.57\n",
            "59 Month of Period End.58\n",
            "60 Month of Period End.59\n",
            "61 Month of Period End.60\n",
            "62 Month of Period End.61\n",
            "63 Month of Period End.62\n",
            "64 Month of Period End.63\n",
            "65 Month of Period End.64\n",
            "66 Month of Period End.65\n",
            "67 Month of Period End.66\n",
            "68 Month of Period End.67\n",
            "69 Month of Period End.68\n",
            "70 Month of Period End.69\n",
            "71 Month of Period End.70\n",
            "72 Month of Period End.71\n",
            "73 Month of Period End.72\n",
            "74 Month of Period End.73\n",
            "75 Month of Period End.74\n",
            "76 Month of Period End.75\n",
            "77 Month of Period End.76\n",
            "78 Month of Period End.77\n",
            "79 Month of Period End.78\n",
            "80 Month of Period End.79\n",
            "81 Month of Period End.80\n",
            "82 Month of Period End.81\n",
            "83 Month of Period End.82\n",
            "84 Month of Period End.83\n",
            "85 Month of Period End.84\n",
            "86 Month of Period End.85\n",
            "87 Month of Period End.86\n",
            "88 Month of Period End.87\n",
            "89 Month of Period End.88\n",
            "90 Month of Period End.89\n",
            "91 Month of Period End.90\n",
            "92 Month of Period End.91\n",
            "93 Month of Period End.92\n",
            "94 Month of Period End.93\n",
            "95 Month of Period End.94\n",
            "96 Month of Period End.95\n",
            "97 Month of Period End.96\n",
            "98 Month of Period End.97\n",
            "99 Month of Period End.98\n",
            "100 Month of Period End.99\n",
            "101 Month of Period End.100\n",
            "102 Month of Period End.101\n",
            "103 Month of Period End.102\n",
            "104 Month of Period End.103\n",
            "105 Month of Period End.104\n",
            "106 Month of Period End.105\n",
            "107 Month of Period End.106\n",
            "108 Month of Period End.107\n",
            "109 Month of Period End.108\n",
            "110 Month of Period End.109\n",
            "111 Month of Period End.110\n",
            "112 Month of Period End.111\n",
            "113 Month of Period End.112\n",
            "114 Month of Period End.113\n",
            "115 Month of Period End.114\n",
            "116 Month of Period End.115\n",
            "117 Month of Period End.116\n",
            "118 Month of Period End.117\n",
            "119 Month of Period End.118\n",
            "120 Month of Period End.119\n",
            "121 Month of Period End.120\n",
            "122 Month of Period End.121\n",
            "123 Month of Period End.122\n",
            "124 Month of Period End.123\n",
            "125 Month of Period End.124\n",
            "126 Month of Period End.125\n",
            "127 Month of Period End.126\n",
            "128 Month of Period End.127\n",
            "129 Month of Period End.128\n",
            "130 Month of Period End.129\n",
            "131 Month of Period End.130\n",
            "132 Month of Period End.131\n",
            "133 Month of Period End.132\n",
            "134 Month of Period End.133\n",
            "135 Month of Period End.134\n",
            "136 Month of Period End.135\n",
            "137 Month of Period End.136\n",
            "138 Month of Period End.137\n",
            "139 Month of Period End.138\n",
            "140 Month of Period End.139\n",
            "141 Month of Period End.140\n",
            "142 Month of Period End.141\n",
            "143 Month of Period End.142\n",
            "144 Month of Period End.143\n",
            "145 Month of Period End.144\n",
            "146 Month of Period End.145\n",
            "147 Month of Period End.146\n",
            "148 Month of Period End.147\n",
            "149 Month of Period End.148\n",
            "150 Month of Period End.149\n",
            "151 Month of Period End.150\n",
            "152 Month of Period End.151\n",
            "153 Month of Period End.152\n",
            "154 Month of Period End.153\n",
            "155 Month of Period End.154\n",
            "156 Month of Period End.155\n",
            "157 Month of Period End.156\n",
            "158 Month of Period End.157\n"
          ]
        }
      ]
    },
    {
      "cell_type": "code",
      "source": [
        "redfin = pd.read_csv('REDFIN_MEDIAN_SALE_PRICE.csv', header=1)\n",
        "print(redfin.columns)\n"
      ],
      "metadata": {
        "colab": {
          "base_uri": "https://localhost:8080/"
        },
        "id": "6em2xVS1ieA1",
        "outputId": "06df599d-c0a8-4080-b6be-9c50c6365c1d"
      },
      "execution_count": 35,
      "outputs": [
        {
          "output_type": "stream",
          "name": "stdout",
          "text": [
            "Index(['Region', 'January 2012', 'February 2012', 'March 2012', 'April 2012',\n",
            "       'May 2012', 'June 2012', 'July 2012', 'August 2012', 'September 2012',\n",
            "       ...\n",
            "       'May 2024', 'June 2024', 'July 2024', 'August 2024', 'September 2024',\n",
            "       'October 2024', 'November 2024', 'December 2024', 'January 2025',\n",
            "       'February 2025'],\n",
            "      dtype='object', length=159)\n"
          ]
        }
      ]
    },
    {
      "cell_type": "code",
      "source": [
        "for col in redfin.columns:\n",
        "    if \"December 2022\" in col:\n",
        "        print(col)\n"
      ],
      "metadata": {
        "colab": {
          "base_uri": "https://localhost:8080/"
        },
        "id": "hfvDkh95ijcO",
        "outputId": "ecc0e3c6-25f8-4ff8-e85f-6e18cba924b1"
      },
      "execution_count": 36,
      "outputs": [
        {
          "output_type": "stream",
          "name": "stdout",
          "text": [
            "December 2022\n"
          ]
        }
      ]
    },
    {
      "cell_type": "code",
      "source": [
        "# Replace 'December 2022' with the exact column name if it differs\n",
        "redfin_2022 = redfin[['Region', 'December 2022']].copy()\n",
        "redfin_2022.columns = ['State', '2022 Median Sale Price']\n",
        "\n",
        "# Clean up: remove '$', 'K', and ',' then convert to integer\n",
        "redfin_2022['2022 Median Sale Price'] = (\n",
        "    redfin_2022['2022 Median Sale Price']\n",
        "    .str.replace('$','', regex=False)\n",
        "    .str.replace('K','000', regex=False)\n",
        "    .str.replace(',','', regex=False)\n",
        "    .str.strip()\n",
        "    .astype(int)\n",
        ")\n",
        "\n",
        "print(redfin_2022.head())\n"
      ],
      "metadata": {
        "colab": {
          "base_uri": "https://localhost:8080/"
        },
        "id": "dCkfB4l3ikoe",
        "outputId": "90b7a91d-12dd-47e8-f2bc-8827cea8902e"
      },
      "execution_count": 37,
      "outputs": [
        {
          "output_type": "stream",
          "name": "stdout",
          "text": [
            "        State  2022 Median Sale Price\n",
            "0     Alabama                  269000\n",
            "1      Alaska                  336000\n",
            "2     Arizona                  410000\n",
            "3    Arkansas                  231000\n",
            "4  California                  704000\n"
          ]
        }
      ]
    },
    {
      "cell_type": "code",
      "source": [
        "df = mhi_2022.merge(pop_2022, on='State', how='inner').merge(redfin_2022, on='State', how='inner')\n",
        "print(df.head())\n"
      ],
      "metadata": {
        "colab": {
          "base_uri": "https://localhost:8080/"
        },
        "id": "AfWQvi9oioDy",
        "outputId": "8a82b35d-0e24-4a26-9fa9-5caba4d66a1a"
      },
      "execution_count": 38,
      "outputs": [
        {
          "output_type": "stream",
          "name": "stdout",
          "text": [
            "        State  2022 Median Household Income  2022 Population  \\\n",
            "0     Alabama                         62027          5108468   \n",
            "1      Alaska                         89336           733406   \n",
            "2     Arizona                         76872          7431344   \n",
            "3    Arkansas                         58773          3067732   \n",
            "4  California                         96334         38965193   \n",
            "\n",
            "   2022 Median Sale Price  \n",
            "0                  269000  \n",
            "1                  336000  \n",
            "2                  410000  \n",
            "3                  231000  \n",
            "4                  704000  \n"
          ]
        }
      ]
    },
    {
      "cell_type": "code",
      "source": [
        "df['Home Price to Income Ratio'] = df['2022 Median Sale Price'] / df['2022 Median Household Income']\n"
      ],
      "metadata": {
        "id": "Tv3Ae74Siq0W"
      },
      "execution_count": 39,
      "outputs": []
    },
    {
      "cell_type": "code",
      "source": [
        "# Make sure 'State' in both DataFrames matches in format (case, whitespace)\n",
        "df = df.merge(keys[['alternative_name', 'state_abbreviation']], left_on='State', right_on='alternative_name', how='left')\n",
        "df = df.drop(columns=['alternative_name'])\n",
        "df = df.rename(columns={'state_abbreviation': 'Abbreviation'})\n"
      ],
      "metadata": {
        "id": "KHxoRSqGixT9"
      },
      "execution_count": 40,
      "outputs": []
    },
    {
      "cell_type": "code",
      "source": [
        "df['Rank by Income'] = df['2022 Median Household Income'].rank(ascending=False, method='min')\n",
        "df['Rank by Price'] = df['2022 Median Sale Price'].rank(ascending=False, method='min')\n",
        "df['Rank by Price/Income Ratio'] = df['Home Price to Income Ratio'].rank(ascending=False, method='min')\n"
      ],
      "metadata": {
        "id": "YSbNP4XXi2k-"
      },
      "execution_count": 41,
      "outputs": []
    },
    {
      "cell_type": "code",
      "source": [
        "final_columns = [\n",
        "    'State', 'Abbreviation',\n",
        "    '2022 Median Household Income',\n",
        "    '2022 Median Sale Price',\n",
        "    '2022 Population',\n",
        "    'Home Price to Income Ratio',\n",
        "    'Rank by Income',\n",
        "    'Rank by Price',\n",
        "    'Rank by Price/Income Ratio'\n",
        "]\n",
        "df = df[final_columns]\n"
      ],
      "metadata": {
        "id": "CVuRWnJfi3ly"
      },
      "execution_count": 42,
      "outputs": []
    },
    {
      "cell_type": "code",
      "source": [
        "df.to_csv('output.csv', index=False)\n",
        "from google.colab import files\n",
        "files.download('output.csv')\n"
      ],
      "metadata": {
        "colab": {
          "base_uri": "https://localhost:8080/",
          "height": 17
        },
        "id": "MAcCQsSCi6mg",
        "outputId": "f76245d7-a3af-499f-ffaa-d65b8afada65"
      },
      "execution_count": 43,
      "outputs": [
        {
          "output_type": "display_data",
          "data": {
            "text/plain": [
              "<IPython.core.display.Javascript object>"
            ],
            "application/javascript": [
              "\n",
              "    async function download(id, filename, size) {\n",
              "      if (!google.colab.kernel.accessAllowed) {\n",
              "        return;\n",
              "      }\n",
              "      const div = document.createElement('div');\n",
              "      const label = document.createElement('label');\n",
              "      label.textContent = `Downloading \"${filename}\": `;\n",
              "      div.appendChild(label);\n",
              "      const progress = document.createElement('progress');\n",
              "      progress.max = size;\n",
              "      div.appendChild(progress);\n",
              "      document.body.appendChild(div);\n",
              "\n",
              "      const buffers = [];\n",
              "      let downloaded = 0;\n",
              "\n",
              "      const channel = await google.colab.kernel.comms.open(id);\n",
              "      // Send a message to notify the kernel that we're ready.\n",
              "      channel.send({})\n",
              "\n",
              "      for await (const message of channel.messages) {\n",
              "        // Send a message to notify the kernel that we're ready.\n",
              "        channel.send({})\n",
              "        if (message.buffers) {\n",
              "          for (const buffer of message.buffers) {\n",
              "            buffers.push(buffer);\n",
              "            downloaded += buffer.byteLength;\n",
              "            progress.value = downloaded;\n",
              "          }\n",
              "        }\n",
              "      }\n",
              "      const blob = new Blob(buffers, {type: 'application/binary'});\n",
              "      const a = document.createElement('a');\n",
              "      a.href = window.URL.createObjectURL(blob);\n",
              "      a.download = filename;\n",
              "      div.appendChild(a);\n",
              "      a.click();\n",
              "      div.remove();\n",
              "    }\n",
              "  "
            ]
          },
          "metadata": {}
        },
        {
          "output_type": "display_data",
          "data": {
            "text/plain": [
              "<IPython.core.display.Javascript object>"
            ],
            "application/javascript": [
              "download(\"download_f6d63166-bb93-4a3c-8af9-ebb30086f7ca\", \"output.csv\", 3483)"
            ]
          },
          "metadata": {}
        }
      ]
    },
    {
      "cell_type": "code",
      "source": [
        "df['Home Price to Income Ratio'] = df['Home Price to Income Ratio'].round(2)\n"
      ],
      "metadata": {
        "id": "84yfQeZGi-Fa"
      },
      "execution_count": 44,
      "outputs": []
    },
    {
      "cell_type": "code",
      "source": [
        "import matplotlib.pyplot as plt\n",
        "\n",
        "plt.figure(figsize=(10,6))\n",
        "plt.scatter(df['2022 Median Household Income'], df['2022 Median Sale Price'])\n",
        "plt.xlabel('2022 Median Household Income')\n",
        "plt.ylabel('2022 Median Sale Price')\n",
        "plt.title('Income vs. Home Price by State')\n",
        "plt.grid(True)\n",
        "plt.show()\n"
      ],
      "metadata": {
        "colab": {
          "base_uri": "https://localhost:8080/",
          "height": 564
        },
        "id": "05dx9DxzmFNu",
        "outputId": "60150b15-8a10-4127-8ec1-3f913f8eed7a"
      },
      "execution_count": 45,
      "outputs": [
        {
          "output_type": "display_data",
          "data": {
            "text/plain": [
              "<Figure size 1000x600 with 1 Axes>"
            ],
            "image/png": "[encoded data removed]"
          },
          "metadata": {}
        }
      ]
    },
    {
      "cell_type": "code",
      "source": [
        "top10 = df.sort_values('Home Price to Income Ratio', ascending=False).head(10)\n",
        "\n",
        "plt.figure(figsize=(12,6))\n",
        "plt.bar(top10['State'], top10['Home Price to Income Ratio'], color='skyblue')\n",
        "plt.xlabel('State')\n",
        "plt.ylabel('Home Price to Income Ratio')\n",
        "plt.title('Top 10 States: Home Price to Income Ratio (2022)')\n",
        "plt.xticks(rotation=45)\n",
        "plt.tight_layout()\n",
        "plt.show()\n"
      ],
      "metadata": {
        "colab": {
          "base_uri": "https://localhost:8080/",
          "height": 607
        },
        "id": "sPoPeI5BmHew",
        "outputId": "0924f76d-2579-4417-9fba-6babf39e88cf"
      },
      "execution_count": 46,
      "outputs": [
        {
          "output_type": "display_data",
          "data": {
            "text/plain": [
              "<Figure size 1200x600 with 1 Axes>"
            ],
            "image/png": "[encoded data removed]"
          },
          "metadata": {}
        }
      ]
    },
    {
      "cell_type": "code",
      "source": [
        "plt.figure(figsize=(8,5))\n",
        "plt.hist(df['Home Price to Income Ratio'], bins=20, color='coral', edgecolor='black')\n",
        "plt.xlabel('Home Price to Income Ratio')\n",
        "plt.ylabel('Number of States')\n",
        "plt.title('Distribution of Home Price to Income Ratios (2022)')\n",
        "plt.show()\n"
      ],
      "metadata": {
        "colab": {
          "base_uri": "https://localhost:8080/",
          "height": 487
        },
        "id": "vkaLFhEamLqc",
        "outputId": "68cabad4-098e-4dab-9b7f-3a54b7041c73"
      },
      "execution_count": 47,
      "outputs": [
        {
          "output_type": "display_data",
          "data": {
            "text/plain": [
              "<Figure size 800x500 with 1 Axes>"
            ],
            "image/png": "[encoded data removed]"
          },
          "metadata": {}
        }
      ]
    },
    {
      "cell_type": "code",
      "source": [
        "import seaborn as sns\n",
        "\n",
        "plt.figure(figsize=(8,6))\n",
        "sns.heatmap(df[['2022 Median Household Income', '2022 Median Sale Price', 'Home Price to Income Ratio']].corr(), annot=True, cmap='coolwarm')\n",
        "plt.title('Correlation Matrix')\n",
        "plt.savefig('income_vs_price.png')\n",
        "plt.show()\n"
      ],
      "metadata": {
        "colab": {
          "base_uri": "https://localhost:8080/",
          "height": 753
        },
        "id": "iDC0msjkmOxY",
        "outputId": "b5f3478d-d3af-4d76-a47e-717ca463f39f"
      },
      "execution_count": 49,
      "outputs": [
        {
          "output_type": "display_data",
          "data": {
            "text/plain": [
              "<Figure size 800x600 with 2 Axes>"
            ],
            "image/png": "[encoded data removed]"
          },
          "metadata": {}
        }
      ]
    },
    {
      "cell_type": "code",
      "source": [],
      "metadata": {
        "id": "jziQ4kKUmSF6"
      },
      "execution_count": null,
      "outputs": []
    }
  ]
}